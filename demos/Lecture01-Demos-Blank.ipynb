{
 "cells": [
  {
   "cell_type": "markdown",
   "id": "0d4c8b79-06f9-4a6a-837e-764478e27301",
   "metadata": {},
   "source": [
    "# Demos: Lecture 1"
   ]
  },
  {
   "cell_type": "code",
   "execution_count": null,
   "id": "8b8e51c7-0efe-47fc-aad5-ddfd356d27da",
   "metadata": {},
   "outputs": [],
   "source": [
    "import numpy as np"
   ]
  },
  {
   "cell_type": "markdown",
   "id": "47c7e766-bcd5-4515-af8b-084afe357729",
   "metadata": {},
   "source": [
    "## Demo 1: superposition"
   ]
  },
  {
   "cell_type": "code",
   "execution_count": null,
   "id": "7c51b4cb-dffe-4f62-8dd8-3daa329afd3d",
   "metadata": {},
   "outputs": [],
   "source": [
    "def ket_0():\n",
    "    return np.array([1, 0])\n",
    "\n",
    "def ket_1():\n",
    "    return np.array([0, 1])"
   ]
  },
  {
   "cell_type": "code",
   "execution_count": null,
   "id": "3efe4921-6ffb-492e-89d1-77e40f98672d",
   "metadata": {},
   "outputs": [],
   "source": [
    "def superposition(alpha, beta):\n",
    "    # Create and return the superposition α|0> + β|1>\n",
    "    return"
   ]
  },
  {
   "cell_type": "code",
   "execution_count": null,
   "id": "f88370e2-4b43-4e50-84ee-aa60e66454d2",
   "metadata": {},
   "outputs": [],
   "source": [
    "superposition(1/np.sqrt(2), 1/np.sqrt(2))"
   ]
  },
  {
   "cell_type": "markdown",
   "id": "c49e68f5-9559-45c6-ad45-4828d864c9ec",
   "metadata": {},
   "source": [
    "## Demo 2: operations on qubits"
   ]
  },
  {
   "cell_type": "code",
   "execution_count": null,
   "id": "1f9dc694-c9af-4886-8d8d-63226cc53ff2",
   "metadata": {},
   "outputs": [],
   "source": [
    "def apply_U(U, state):\n",
    "    # Apply U to the provided state\n",
    "    return"
   ]
  },
  {
   "cell_type": "code",
   "execution_count": null,
   "id": "d9966925-463c-4f30-9b1d-a3566e144dee",
   "metadata": {},
   "outputs": [],
   "source": [
    "H = (1/np.sqrt(2)) * np.array([[1, 1], [1, -1]])\n",
    "X = np.array([[0, 1], [1, 0]])\n",
    "Z = np.array([[1, 0], [0, -1]])"
   ]
  },
  {
   "cell_type": "code",
   "execution_count": null,
   "id": "363fd344-5326-4cb0-a507-1794c7b0aec8",
   "metadata": {},
   "outputs": [],
   "source": [
    "apply_U(H, ket_0())"
   ]
  },
  {
   "cell_type": "code",
   "execution_count": null,
   "id": "f09b8179-7256-495c-bc67-10eb429d728e",
   "metadata": {},
   "outputs": [],
   "source": [
    "apply_U(H, apply_U(H, ket_0()))"
   ]
  },
  {
   "cell_type": "code",
   "execution_count": null,
   "id": "6712206d-f896-4c3d-9745-2ddb59a269dc",
   "metadata": {},
   "outputs": [],
   "source": [
    "def apply_multiple_U(list_U, state):\n",
    "    for U in list_U:\n",
    "        state = apply_U(U, state)\n",
    "    return state"
   ]
  },
  {
   "cell_type": "code",
   "execution_count": null,
   "id": "ae3ce0e4-4618-4adc-8d58-dcc7788eff4f",
   "metadata": {},
   "outputs": [],
   "source": [
    "apply_multiple_U([H, Z, X], ket_0())"
   ]
  },
  {
   "cell_type": "markdown",
   "id": "1beeb594-75d4-4578-982d-d6257b353e9b",
   "metadata": {},
   "source": [
    "## Demo 3: measurement"
   ]
  },
  {
   "cell_type": "code",
   "execution_count": null,
   "id": "5acf15d6-3f5c-4499-9d38-3cd6f865bedb",
   "metadata": {},
   "outputs": [],
   "source": [
    "def measure(state, shots=50):\n",
    "    # Measure a qubit in the provided state #shots times\n",
    "    return"
   ]
  },
  {
   "cell_type": "code",
   "execution_count": null,
   "id": "e92834ce-7b0e-492f-94e2-bb7198381ba6",
   "metadata": {},
   "outputs": [],
   "source": [
    "some_state = apply_multiple_U([H, Z, X], ket_0())"
   ]
  },
  {
   "cell_type": "code",
   "execution_count": null,
   "id": "5bdda64b-7fea-43e7-9c17-a422bd09c864",
   "metadata": {},
   "outputs": [],
   "source": [
    "measure(some_state, shots=20)"
   ]
  },
  {
   "cell_type": "markdown",
   "id": "708d3a51-5ece-414a-b53c-e901135f3ef6",
   "metadata": {},
   "source": [
    "## Demo 4: structure of a quantum algorithm"
   ]
  },
  {
   "cell_type": "code",
   "execution_count": null,
   "id": "225a1cdd-618d-4abd-b3bd-a0fe528241ca",
   "metadata": {},
   "outputs": [],
   "source": [
    "def quantum_algorithm():\n",
    "    # Write a quantum algorithm that prepares the system in state \n",
    "    #               (1j/2)|0> + sqrt(3)/2 |1>\n",
    "    # Applies H, then, X, H, X, H, Z\n",
    "    # Takes 100 shots\n",
    "    return"
   ]
  },
  {
   "cell_type": "code",
   "execution_count": null,
   "id": "b9ffd0dc-480a-43d2-87c1-cd6350f0025c",
   "metadata": {},
   "outputs": [],
   "source": [
    "quantum_algorithm()"
   ]
  },
  {
   "cell_type": "code",
   "execution_count": null,
   "id": "30add1a9-60e9-4362-99ed-1d761596bc1a",
   "metadata": {},
   "outputs": [],
   "source": []
  }
 ],
 "metadata": {
  "kernelspec": {
   "display_name": "Python 3 (ipykernel)",
   "language": "python",
   "name": "python3"
  },
  "language_info": {
   "codemirror_mode": {
    "name": "ipython",
    "version": 3
   },
   "file_extension": ".py",
   "mimetype": "text/x-python",
   "name": "python",
   "nbconvert_exporter": "python",
   "pygments_lexer": "ipython3",
   "version": "3.9.12"
  }
 },
 "nbformat": 4,
 "nbformat_minor": 5
}
