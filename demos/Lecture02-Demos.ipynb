{
 "cells": [
  {
   "cell_type": "markdown",
   "id": "877db40a-e5e9-462a-84e5-0e2f52b93597",
   "metadata": {},
   "source": [
    "# Demos: Lecture 2"
   ]
  },
  {
   "cell_type": "markdown",
   "id": "d7f6550f-3b76-4b19-8bd1-e41bbe7cab4c",
   "metadata": {},
   "source": [
    "## Demo 1: QNodes"
   ]
  },
  {
   "cell_type": "markdown",
   "id": "fa6c1c7d-d6ec-4170-ba10-731ff6ead12c",
   "metadata": {},
   "source": [
    "<img src=\"fig/xzh.png\" width=300>"
   ]
  },
  {
   "cell_type": "code",
   "execution_count": 1,
   "id": "3ee4789b-cf09-4233-8173-addff20dead8",
   "metadata": {},
   "outputs": [],
   "source": [
    "import pennylane as qml"
   ]
  },
  {
   "cell_type": "code",
   "execution_count": 2,
   "id": "31743d0d-a39b-4963-85b2-b75706669cac",
   "metadata": {},
   "outputs": [],
   "source": [
    "def my_small_circuit():\n",
    "    qml.Hadamard(wires=0) # wire 0\n",
    "    qml.PauliZ(wires=0)\n",
    "    qml.PauliX(wires=0)\n",
    "    return qml.sample(wires=0)\n",
    "\n",
    "dev = qml.device(\"default.qubit\", wires=1, shots=100)"
   ]
  },
  {
   "cell_type": "code",
   "execution_count": 3,
   "id": "c5d36a04-4322-4e2d-a111-ef113cee9ac9",
   "metadata": {},
   "outputs": [
    {
     "data": {
      "text/plain": [
       "sample(wires=[0])"
      ]
     },
     "execution_count": 3,
     "metadata": {},
     "output_type": "execute_result"
    }
   ],
   "source": [
    "my_small_circuit()"
   ]
  },
  {
   "cell_type": "code",
   "execution_count": 4,
   "id": "969db6e3-f048-42f3-922c-8e86769be026",
   "metadata": {},
   "outputs": [],
   "source": [
    "my_qnode = qml.QNode(my_small_circuit, dev)"
   ]
  },
  {
   "cell_type": "code",
   "execution_count": 5,
   "id": "ee093897-082d-4b8c-b4e4-282f7de7628b",
   "metadata": {},
   "outputs": [
    {
     "data": {
      "text/plain": [
       "array([1, 0, 0, 0, 0, 1, 0, 1, 0, 0, 1, 1, 1, 1, 0, 1, 1, 1, 0, 0, 1, 0,\n",
       "       0, 1, 1, 0, 0, 0, 0, 0, 0, 1, 0, 1, 1, 0, 0, 1, 0, 1, 0, 1, 1, 1,\n",
       "       1, 1, 0, 0, 0, 1, 1, 1, 0, 1, 1, 1, 1, 1, 1, 0, 0, 1, 1, 0, 0, 0,\n",
       "       1, 1, 1, 1, 0, 1, 1, 1, 0, 1, 1, 0, 1, 0, 0, 0, 0, 0, 0, 0, 1, 0,\n",
       "       1, 1, 1, 0, 1, 1, 1, 0, 1, 0, 1, 0])"
      ]
     },
     "execution_count": 5,
     "metadata": {},
     "output_type": "execute_result"
    }
   ],
   "source": [
    "my_qnode()"
   ]
  },
  {
   "cell_type": "code",
   "execution_count": 13,
   "id": "5c7c6184-bf25-410d-80d4-1ab8ba09aa33",
   "metadata": {},
   "outputs": [],
   "source": [
    "new_dev_no_shots = qml.device('default.qubit', wires=1)\n",
    "\n",
    "@qml.qnode(new_dev_no_shots)\n",
    "def my_small_circuit():\n",
    "    qml.Hadamard(wires=0) # wire 0\n",
    "    qml.PauliZ(wires=0)\n",
    "    qml.PauliX(wires=0)\n",
    "    return qml.state()"
   ]
  },
  {
   "cell_type": "code",
   "execution_count": 14,
   "id": "346f60e3-cfbe-474a-acc1-68eeda4cfa82",
   "metadata": {},
   "outputs": [
    {
     "data": {
      "text/plain": [
       "array([-0.70710678+0.j,  0.70710678+0.j])"
      ]
     },
     "execution_count": 14,
     "metadata": {},
     "output_type": "execute_result"
    }
   ],
   "source": [
    "my_small_circuit()"
   ]
  },
  {
   "cell_type": "markdown",
   "id": "dacdd8f6-8ef0-4cb6-83b4-947df3d01713",
   "metadata": {},
   "source": [
    "## Exercise 1: state preparation"
   ]
  },
  {
   "cell_type": "markdown",
   "id": "e101b5e3-c666-4432-8855-bd20afd3347e",
   "metadata": {},
   "source": [
    "Write a QNode that prepares the quantum state\n",
    "\n",
    "$$\n",
    "\\begin{equation*}\n",
    "|\\psi \\rangle = \\frac{\\sqrt{3}}{2}|0 \\rangle  - \\frac{1}{2} e^{i\\frac{5}{4}}| 1\\rangle \n",
    "\\end{equation*}\n",
    "$$\n",
    "\n",
    "Run it on an ideal simulated device (do not set `shots`), and return `qml.state()`. "
   ]
  },
  {
   "cell_type": "code",
   "execution_count": null,
   "id": "18b32247-1868-4e5b-b157-9990cdea32bb",
   "metadata": {},
   "outputs": [],
   "source": []
  },
  {
   "cell_type": "code",
   "execution_count": null,
   "id": "83ee7943-ffaf-47d0-87e7-80f14cec606b",
   "metadata": {},
   "outputs": [],
   "source": []
  },
  {
   "cell_type": "markdown",
   "id": "f6b15ea9-6c9b-455f-9747-072a11797b47",
   "metadata": {},
   "source": [
    "## Exercise 2: relative phase"
   ]
  },
  {
   "cell_type": "markdown",
   "id": "c56a6ae9-d910-4188-886d-8db9c1f7dc84",
   "metadata": {},
   "source": [
    "Implement the circuit in the picture. Run it on a device with 1000 shots, and try two different values of $\\theta$. How does $\\theta$ affect the measurement outcome probabilites?\n",
    "\n",
    "<img src=\"fig/exercise-circuit.png\" width=300>"
   ]
  },
  {
   "cell_type": "code",
   "execution_count": null,
   "id": "d3fe67d6-8d76-4cb1-9e79-f022fb39b6c9",
   "metadata": {},
   "outputs": [],
   "source": []
  }
 ],
 "metadata": {
  "kernelspec": {
   "display_name": "Python 3 (ipykernel)",
   "language": "python",
   "name": "python3"
  },
  "language_info": {
   "codemirror_mode": {
    "name": "ipython",
    "version": 3
   },
   "file_extension": ".py",
   "mimetype": "text/x-python",
   "name": "python",
   "nbconvert_exporter": "python",
   "pygments_lexer": "ipython3",
   "version": "3.12.0"
  }
 },
 "nbformat": 4,
 "nbformat_minor": 5
}
