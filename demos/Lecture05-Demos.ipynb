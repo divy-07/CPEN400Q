{
 "cells": [
  {
   "cell_type": "markdown",
   "metadata": {},
   "source": [
    "# Demos: Lecture 5 "
   ]
  },
  {
   "cell_type": "code",
   "execution_count": 1,
   "metadata": {},
   "outputs": [],
   "source": [
    "import pennylane as qml\n",
    "\n",
    "dev = qml.device(\"default.qubit\", wires=1)\n",
    "\n",
    "@qml.qnode(dev)\n",
    "def quiz_q(y, x):\n",
    "    qml.Hadamard(wires=0)\n",
    "    qml.RY(y, wires=0)\n",
    "    qml.PauliZ(wires=0)\n",
    "    qml.RX(x, wires=0)\n",
    "    return qml.probs()"
   ]
  },
  {
   "cell_type": "code",
   "execution_count": 2,
   "metadata": {},
   "outputs": [
    {
     "data": {
      "text/plain": [
       "tensor([0.74776019, 0.25223981], requires_grad=True)"
      ]
     },
     "execution_count": 2,
     "metadata": {},
     "output_type": "execute_result"
    }
   ],
   "source": [
    "quiz_q(-0.6, -0.5)"
   ]
  },
  {
   "cell_type": "markdown",
   "metadata": {
    "tags": []
   },
   "source": [
    "## Demo 1: controlled operations"
   ]
  },
  {
   "cell_type": "markdown",
   "metadata": {},
   "source": [
    "Implement the following circuit; apply the controlled operations in two different ways."
   ]
  },
  {
   "cell_type": "markdown",
   "metadata": {},
   "source": [
    "<img src=\"fig/mq-circuit.png\" width=350>"
   ]
  },
  {
   "cell_type": "code",
   "execution_count": 14,
   "metadata": {},
   "outputs": [],
   "source": [
    "dev = qml.device(\"default.qubit\", wires=3)\n",
    "\n",
    "def some_subroutine():\n",
    "    qml.Hadamard(wires=1)\n",
    "    qml.CNOT(wires=[1, 2])\n",
    "\n",
    "@qml.qnode(dev)\n",
    "def qfunc(x, y, z):\n",
    "    qml.CRX(x, wires=[0, 1])\n",
    "    qml.CRY(y, wires=[0, 2])\n",
    "    qml.RX(x, wires=0)\n",
    "    qml.RY(y, wires=1)\n",
    "    qml.RZ(z, wires=2)\n",
    "    \n",
    "#     ctrl_func = qml.ctrl(some_subroutine, control=0)\n",
    "#     ctrl_func()\n",
    "\n",
    "    qml.ctrl(qml.Hadamard, control=[0, 1])(wires=2)\n",
    "    \n",
    "    qml.Hadamard(wires=2)\n",
    "    return qml.probs(wires=[0, 1])"
   ]
  },
  {
   "cell_type": "code",
   "execution_count": 15,
   "metadata": {},
   "outputs": [
    {
     "name": "stdout",
     "output_type": "stream",
     "text": [
      "0: ─╭●────────╭●─────────RX(0.10)─╭●────┤ ╭Probs\n",
      "1: ─╰RX(0.10)─│──────────RY(0.20)─├●────┤ ╰Probs\n",
      "2: ───────────╰RY(0.20)──RZ(0.30)─╰H──H─┤       \n"
     ]
    }
   ],
   "source": [
    "print(qml.draw(qfunc)(0.1, 0.2, 0.3))"
   ]
  },
  {
   "cell_type": "code",
   "execution_count": 8,
   "metadata": {},
   "outputs": [
    {
     "data": {
      "text/plain": [
       "tensor([0.98756027, 0.00994182, 0.00149709, 0.00100083], requires_grad=True)"
      ]
     },
     "execution_count": 8,
     "metadata": {},
     "output_type": "execute_result"
    }
   ],
   "source": [
    "qfunc(0.1, 0.2, 0.3)"
   ]
  },
  {
   "cell_type": "markdown",
   "metadata": {},
   "source": [
    "## Exercise 1: multi-qubit measurements"
   ]
  },
  {
   "cell_type": "markdown",
   "metadata": {},
   "source": [
    "Given the previous circuit, compute the measurement outcome probabilities of:\n",
    " - each 3-qubit computational basis state\n",
    " - the probability of the first two qubits being in state $|11\\rangle$"
   ]
  },
  {
   "cell_type": "code",
   "execution_count": null,
   "metadata": {},
   "outputs": [],
   "source": []
  },
  {
   "cell_type": "markdown",
   "metadata": {},
   "source": [
    "## Demo 2: superdense coding"
   ]
  },
  {
   "cell_type": "markdown",
   "metadata": {},
   "source": [
    "<img src=\"fig/superdense.png\" width=\"600px\"> "
   ]
  },
  {
   "cell_type": "code",
   "execution_count": null,
   "metadata": {},
   "outputs": [],
   "source": []
  },
  {
   "cell_type": "code",
   "execution_count": null,
   "metadata": {},
   "outputs": [],
   "source": []
  }
 ],
 "metadata": {
  "kernelspec": {
   "display_name": "Python 3 (ipykernel)",
   "language": "python",
   "name": "python3"
  },
  "language_info": {
   "codemirror_mode": {
    "name": "ipython",
    "version": 3
   },
   "file_extension": ".py",
   "mimetype": "text/x-python",
   "name": "python",
   "nbconvert_exporter": "python",
   "pygments_lexer": "ipython3",
   "version": "3.9.12"
  }
 },
 "nbformat": 4,
 "nbformat_minor": 4
}
