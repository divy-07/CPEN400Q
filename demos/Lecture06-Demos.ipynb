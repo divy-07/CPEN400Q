{
 "cells": [
  {
   "cell_type": "markdown",
   "id": "98483ed6-e1df-4920-b5cb-a9b36ce526a2",
   "metadata": {},
   "source": [
    "# Demos: Lecture 6"
   ]
  },
  {
   "cell_type": "markdown",
   "id": "d33295c8-efe4-4ec8-aaa2-613328a143da",
   "metadata": {},
   "source": [
    "Note: the code included here is similar (but not identical) to the code I showed in CircInspect during class. "
   ]
  },
  {
   "cell_type": "markdown",
   "id": "299913dc-eb79-4662-a244-b4eed5adfe63",
   "metadata": {},
   "source": [
    "## Demo 1: Superdense coding"
   ]
  },
  {
   "cell_type": "markdown",
   "id": "982f4081-9e1c-4ca0-970b-cbcac17c67e3",
   "metadata": {},
   "source": [
    "<img src=\"fig/superdense.png\" width=\"600px\"> "
   ]
  },
  {
   "cell_type": "code",
   "execution_count": 1,
   "id": "706b4fb5-cf6c-4744-be02-9047d67b688b",
   "metadata": {},
   "outputs": [
    {
     "data": {
      "text/plain": [
       "tensor([0, 1], requires_grad=True)"
      ]
     },
     "execution_count": 1,
     "metadata": {},
     "output_type": "execute_result"
    }
   ],
   "source": [
    "import pennylane as qml\n",
    "\n",
    "dev = qml.device(\"default.qubit\", wires=2, shots=1)\n",
    "\n",
    "def create_entangled_state(wires):\n",
    "    qml.Hadamard(wires=wires[0])\n",
    "    qml.CNOT(wires=wires)\n",
    "\n",
    "def bell_basis_rotation(wires):\n",
    "    qml.adjoint(create_entangled_state)(wires)\n",
    "\n",
    "def alice_chooses_bits(wire):\n",
    "    b1, b2 = 0, 1\n",
    "    if b1 == 1:\n",
    "        qml.PauliZ(wires=wire)\n",
    "    if b2 == 1:\n",
    "        qml.PauliX(wires=wire)\n",
    "\n",
    "@qml.qnode(dev)\n",
    "def superdense_coding():\n",
    "    create_entangled_state([0, 1])\n",
    "    alice_chooses_bits(0)\n",
    "    bell_basis_rotation([0, 1])\n",
    "    return qml.sample()\n",
    "\n",
    "# Execute a QNode to render a circuit in the righthand pane\n",
    "superdense_coding()\n"
   ]
  },
  {
   "cell_type": "markdown",
   "id": "02ec0684-e0cf-4ba6-a311-930f5e907b97",
   "metadata": {},
   "source": [
    "## Demo 2: Teleportation"
   ]
  },
  {
   "cell_type": "markdown",
   "id": "378dd487-d83b-46b9-8af9-6509d8448224",
   "metadata": {},
   "source": [
    " <img src=\"fig/teleportation.png\" width=\"800px\">"
   ]
  },
  {
   "cell_type": "code",
   "execution_count": 3,
   "id": "5877c0c5-67ba-421b-8aa9-9723fb2f0259",
   "metadata": {},
   "outputs": [
    {
     "data": {
      "text/plain": [
       "tensor([0.14847164, 0.85152836], requires_grad=True)"
      ]
     },
     "execution_count": 3,
     "metadata": {},
     "output_type": "execute_result"
    }
   ],
   "source": [
    "dev = qml.device(\"default.qubit\", wires=3)\n",
    "\n",
    "def prepare_state(wire):\n",
    "    qml.Hadamard(wires=wire)\n",
    "    qml.RZ(0.2, wires=wire)\n",
    "    qml.RY(0.8, wires=wire)\n",
    "\n",
    "@qml.qnode(dev)\n",
    "def teleportation():\n",
    "    prepare_state(wire=0)\n",
    "    create_entangled_state(wires=[1, 2])\n",
    "    bell_basis_rotation(wires=[0, 1])\n",
    "\n",
    "    m1 = qml.measure(wires=0)\n",
    "    m2 = qml.measure(wires=1)\n",
    "\n",
    "    qml.cond(m1 == 1, qml.PauliZ)(wires=2)\n",
    "    qml.cond(m2 == 1, qml.PauliX)(wires=2)\n",
    "\n",
    "    return qml.probs(wires=2)\n",
    "\n",
    "# Execute a QNode to render a circuit in the righthand pane\n",
    "teleportation()\n"
   ]
  },
  {
   "cell_type": "code",
   "execution_count": null,
   "id": "5acb68b4-0aa4-49bc-996f-adc5aede3422",
   "metadata": {},
   "outputs": [],
   "source": []
  }
 ],
 "metadata": {
  "kernelspec": {
   "display_name": "Python 3 (ipykernel)",
   "language": "python",
   "name": "python3"
  },
  "language_info": {
   "codemirror_mode": {
    "name": "ipython",
    "version": 3
   },
   "file_extension": ".py",
   "mimetype": "text/x-python",
   "name": "python",
   "nbconvert_exporter": "python",
   "pygments_lexer": "ipython3",
   "version": "3.9.12"
  }
 },
 "nbformat": 4,
 "nbformat_minor": 5
}
