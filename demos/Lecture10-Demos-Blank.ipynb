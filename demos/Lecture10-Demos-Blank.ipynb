{
 "cells": [
  {
   "cell_type": "markdown",
   "id": "2944e1a3-aae3-40ed-ad15-b9002c1aac81",
   "metadata": {},
   "source": [
    "# Demos: Lecture 10"
   ]
  },
  {
   "cell_type": "markdown",
   "id": "791fb07d-2803-4c3d-8db4-204d64521865",
   "metadata": {},
   "source": [
    "## Demo 1: Grover's algorithm"
   ]
  },
  {
   "cell_type": "markdown",
   "id": "9a4c5242-c8e1-4bed-956f-5030a941d932",
   "metadata": {},
   "source": [
    "<img src=\"fig/grover_circuit_full_c.png\" width=\"500px\">"
   ]
  },
  {
   "cell_type": "code",
   "execution_count": null,
   "id": "fa18b6e2-989a-454b-a48a-d4616bee7f0d",
   "metadata": {
    "tags": []
   },
   "outputs": [],
   "source": [
    "import pennylane as qml\n",
    "import numpy as np"
   ]
  },
  {
   "cell_type": "code",
   "execution_count": null,
   "id": "fc4a1d76-863f-41a7-8c79-43fc0aba128b",
   "metadata": {
    "tags": []
   },
   "outputs": [],
   "source": [
    "n_bits = 5\n",
    "special_string = '11111' \n",
    "\n",
    "dev = qml.device('default.qubit', wires=n_bits+1)"
   ]
  },
  {
   "cell_type": "code",
   "execution_count": null,
   "id": "424747fb-e9f3-4f19-99a2-24a92a0b40e5",
   "metadata": {
    "tags": []
   },
   "outputs": [],
   "source": []
  },
  {
   "cell_type": "code",
   "execution_count": null,
   "id": "b848aeb4-d47e-4b47-ba9c-ab828f5fb808",
   "metadata": {
    "tags": []
   },
   "outputs": [],
   "source": []
  },
  {
   "cell_type": "code",
   "execution_count": null,
   "id": "071d6fcd-5f66-4534-b339-f106595be629",
   "metadata": {
    "tags": []
   },
   "outputs": [],
   "source": []
  },
  {
   "cell_type": "code",
   "execution_count": null,
   "id": "3993692e-346d-482f-a621-286044260462",
   "metadata": {
    "tags": []
   },
   "outputs": [],
   "source": [
    "@qml.qnode(dev)\n",
    "def grover(num_its):\n",
    "\n",
    "    return qml.probs(wires=range(n_bits))"
   ]
  },
  {
   "cell_type": "markdown",
   "id": "cd66dcca-36b6-4d2f-8a66-70900c02a0e7",
   "metadata": {},
   "source": [
    "For plotting after the implementation"
   ]
  },
  {
   "cell_type": "code",
   "execution_count": null,
   "id": "8141da30-eb89-493b-979c-365d097c7c2e",
   "metadata": {
    "tags": []
   },
   "outputs": [],
   "source": [
    "import matplotlib.pyplot as plt\n",
    "\n",
    "for n in range(10):\n",
    "    plt.bar(\n",
    "        list(range(2 ** n_bits)),\n",
    "        grover(num_its=n),\n",
    "        label=f\"it={n}\"\n",
    "    )\n",
    "    plt.ylim(0, 1)\n",
    "    plt.legend()\n",
    "    plt.show()"
   ]
  },
  {
   "cell_type": "code",
   "execution_count": null,
   "id": "a64067ff-203b-4d8b-acdf-f54ee7bcddce",
   "metadata": {},
   "outputs": [],
   "source": []
  }
 ],
 "metadata": {
  "kernelspec": {
   "display_name": "Python 3 (ipykernel)",
   "language": "python",
   "name": "python3"
  },
  "language_info": {
   "codemirror_mode": {
    "name": "ipython",
    "version": 3
   },
   "file_extension": ".py",
   "mimetype": "text/x-python",
   "name": "python",
   "nbconvert_exporter": "python",
   "pygments_lexer": "ipython3",
   "version": "3.10.13"
  }
 },
 "nbformat": 4,
 "nbformat_minor": 5
}
