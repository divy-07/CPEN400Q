{
 "cells": [
  {
   "cell_type": "markdown",
   "metadata": {},
   "source": [
    "# Demos: Lecture 11"
   ]
  },
  {
   "cell_type": "markdown",
   "metadata": {},
   "source": [
    "## Demo 1: `qml.specs`"
   ]
  },
  {
   "cell_type": "code",
   "execution_count": null,
   "metadata": {},
   "outputs": [],
   "source": [
    "from functools import partial\n",
    "from pprint import pprint\n",
    "\n",
    "import pennylane as qml\n",
    "\n",
    "from lecture11_helpers import decompose"
   ]
  },
  {
   "cell_type": "markdown",
   "metadata": {},
   "source": [
    "This is our implementation of Grover's algorithm from last class:"
   ]
  },
  {
   "cell_type": "code",
   "execution_count": null,
   "metadata": {},
   "outputs": [],
   "source": [
    "n_bits = 3\n",
    "n_work_wires = 2\n",
    "special_string = '110'\n",
    "\n",
    "dev = qml.device('default.qubit', wires=n_bits+1+n_work_wires)\n",
    "\n",
    "def hadamard_transform(wires=None):\n",
    "    for wire in wires:\n",
    "        qml.Hadamard(wires=wire)\n",
    "\n",
    "def oracle():\n",
    "    qml.MultiControlledX(\n",
    "        control_wires=range(n_bits), \n",
    "        wires=n_bits, \n",
    "        control_values=special_string,\n",
    "        work_wires=range(n_bits+1, n_bits+1+n_work_wires)\n",
    "    )\n",
    "    \n",
    "def diffusion():\n",
    "    hadamard_transform(wires=range(n_bits))\n",
    "    qml.MultiControlledX(\n",
    "        control_wires=range(n_bits), \n",
    "        wires=n_bits, \n",
    "        control_values='0'*n_bits,\n",
    "        work_wires=range(n_bits+1, n_bits+1+n_work_wires)\n",
    "    )\n",
    "    hadamard_transform(wires=range(n_bits))\n"
   ]
  },
  {
   "cell_type": "code",
   "execution_count": null,
   "metadata": {},
   "outputs": [],
   "source": [
    "def grover(num_steps=1):\n",
    "    qml.PauliX(wires=n_bits)\n",
    "    \n",
    "    hadamard_transform(wires=range(n_bits+1))\n",
    "        \n",
    "    for _ in range(num_steps):\n",
    "        oracle()\n",
    "        diffusion()\n",
    "        \n",
    "    return qml.probs(wires=range(n_bits))    "
   ]
  },
  {
   "cell_type": "code",
   "execution_count": null,
   "metadata": {},
   "outputs": [],
   "source": [
    "grover_qnode = qml.QNode(grover, dev)\n",
    "print(qml.draw(grover_qnode)(num_steps=2))"
   ]
  },
  {
   "cell_type": "code",
   "execution_count": null,
   "metadata": {},
   "outputs": [],
   "source": [
    "pprint(qml.specs(grover_qnode)(num_steps=2)['resources'])"
   ]
  },
  {
   "cell_type": "markdown",
   "metadata": {},
   "source": [
    "## Demo 2: Decomposing multi-qubit operations"
   ]
  },
  {
   "cell_type": "code",
   "execution_count": null,
   "metadata": {},
   "outputs": [],
   "source": [
    "grover_qnode_l1 = qml.QNode(decompose(grover, level=1), dev)"
   ]
  },
  {
   "cell_type": "code",
   "execution_count": null,
   "metadata": {},
   "outputs": [],
   "source": [
    "print(qml.draw(grover_qnode_l1)(num_steps=2))"
   ]
  },
  {
   "cell_type": "code",
   "execution_count": null,
   "metadata": {},
   "outputs": [],
   "source": [
    "pprint(qml.specs(grover_qnode_l1)(num_steps=2)['resources'])"
   ]
  },
  {
   "cell_type": "code",
   "execution_count": null,
   "metadata": {},
   "outputs": [],
   "source": [
    "grover_qnode_l2 = qml.QNode(decompose(grover, level=2), dev)\n",
    "print(qml.draw(grover_qnode_l2)(num_steps=2))"
   ]
  },
  {
   "cell_type": "code",
   "execution_count": null,
   "metadata": {},
   "outputs": [],
   "source": [
    "pprint(qml.specs(grover_qnode_l2)(num_steps=2)['resources'])"
   ]
  },
  {
   "cell_type": "markdown",
   "metadata": {},
   "source": [
    "## Demo 3: apply custom optimization pipeline"
   ]
  },
  {
   "cell_type": "code",
   "execution_count": null,
   "metadata": {},
   "outputs": [],
   "source": [
    "pipeline = [\n",
    "    qml.transforms.cancel_inverses,\n",
    "    partial(qml.transforms.commute_controlled, direction=\"left\"),\n",
    "    partial(qml.transforms.merge_rotations, atol=1e-6),\n",
    "    qml.transforms.cancel_inverses,\n",
    "    partial(qml.transforms.commute_controlled, direction=\"left\"),\n",
    "    partial(qml.transforms.merge_rotations, atol=1e-6),\n",
    "]"
   ]
  },
  {
   "cell_type": "code",
   "execution_count": null,
   "metadata": {},
   "outputs": [],
   "source": [
    "@qml.qnode(dev)\n",
    "@qml.compile(pipeline=pipeline, num_passes=2)\n",
    "@decompose(level=2)\n",
    "def grover(num_steps=1):\n",
    "    qml.PauliX(wires=n_bits)\n",
    "    \n",
    "    hadamard_transform(wires=range(n_bits+1))\n",
    "        \n",
    "    for _ in range(num_steps):\n",
    "        oracle()\n",
    "        diffusion()\n",
    "        \n",
    "    return qml.probs(wires=range(n_bits))    "
   ]
  },
  {
   "cell_type": "code",
   "execution_count": null,
   "metadata": {},
   "outputs": [],
   "source": [
    "print(qml.draw(grover)())"
   ]
  },
  {
   "cell_type": "code",
   "execution_count": null,
   "metadata": {},
   "outputs": [],
   "source": [
    "pprint(qml.specs(grover)()['resources'])"
   ]
  },
  {
   "cell_type": "code",
   "execution_count": null,
   "metadata": {},
   "outputs": [],
   "source": []
  }
 ],
 "metadata": {
  "kernelspec": {
   "display_name": "Python 3 (ipykernel)",
   "language": "python",
   "name": "python3"
  },
  "language_info": {
   "codemirror_mode": {
    "name": "ipython",
    "version": 3
   },
   "file_extension": ".py",
   "mimetype": "text/x-python",
   "name": "python",
   "nbconvert_exporter": "python",
   "pygments_lexer": "ipython3",
   "version": "3.11.4"
  }
 },
 "nbformat": 4,
 "nbformat_minor": 4
}
