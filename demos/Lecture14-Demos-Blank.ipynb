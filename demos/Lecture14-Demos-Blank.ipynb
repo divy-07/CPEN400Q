{
 "cells": [
  {
   "cell_type": "markdown",
   "metadata": {},
   "source": [
    "# Demos: Lecture 14"
   ]
  },
  {
   "cell_type": "markdown",
   "metadata": {},
   "source": [
    "## Demo 1: Quantum phase estimation"
   ]
  },
  {
   "cell_type": "markdown",
   "metadata": {},
   "source": [
    "<img src=\"fig/qpe_full.png\" width=\"800px\">\n"
   ]
  },
  {
   "cell_type": "code",
   "execution_count": null,
   "metadata": {},
   "outputs": [],
   "source": [
    "import pennylane as qml\n",
    "\n",
    "wires = list(range(4))\n",
    "est_wires = wires[:3]\n",
    "target_wire = wires[-1]\n",
    "\n",
    "dev = qml.device(\"default.qubit\", wires=wires, shots=1)"
   ]
  },
  {
   "cell_type": "code",
   "execution_count": null,
   "metadata": {},
   "outputs": [],
   "source": [
    "def prepare_eigenstate(wire):\n",
    "    pass\n",
    "\n",
    "def hadamard_transform(wires):\n",
    "    for wire in wires:\n",
    "        qml.Hadamard(wires=wire)\n",
    "\n",
    "def QFT(wires):\n",
    "    qml.Hadamard(wires=wires[0])\n",
    "    qml.ctrl(qml.S, control=wires[1])(wires=wires[0])\n",
    "    qml.ctrl(qml.T, control=wires[2])(wires=wires[0])\n",
    "    qml.Hadamard(wires=wires[1])\n",
    "    qml.ctrl(qml.S, control=wires[2])(wires=wires[1])\n",
    "    qml.Hadamard(wires=wires[2])\n",
    "    qml.SWAP(wires=[wires[0], wires[2]])\n",
    "\n",
    "def controlled_operations(est_wires, target_wire):\n",
    "    pass\n"
   ]
  },
  {
   "cell_type": "code",
   "execution_count": null,
   "metadata": {},
   "outputs": [],
   "source": [
    "@qml.qnode(dev)\n",
    "def QPE():\n",
    "    \n",
    "    return qml.sample(wires=est_wires)\n",
    "\n",
    "QPE()"
   ]
  }
 ],
 "metadata": {
  "kernelspec": {
   "display_name": "Python 3 (ipykernel)",
   "language": "python",
   "name": "python3"
  },
  "language_info": {
   "codemirror_mode": {
    "name": "ipython",
    "version": 3
   },
   "file_extension": ".py",
   "mimetype": "text/x-python",
   "name": "python",
   "nbconvert_exporter": "python",
   "pygments_lexer": "ipython3",
   "version": "3.12.3"
  }
 },
 "nbformat": 4,
 "nbformat_minor": 4
}
