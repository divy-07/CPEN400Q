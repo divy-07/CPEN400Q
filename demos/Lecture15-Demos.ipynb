{
 "cells": [
  {
   "cell_type": "markdown",
   "metadata": {},
   "source": [
    "# Demos: Lecture 15"
   ]
  },
  {
   "cell_type": "code",
   "execution_count": 3,
   "metadata": {},
   "outputs": [],
   "source": [
    "import pennylane as qml\n",
    "from pennylane import numpy as np"
   ]
  },
  {
   "cell_type": "markdown",
   "metadata": {
    "tags": []
   },
   "source": [
    "## Demo 1: Order finding"
   ]
  },
  {
   "cell_type": "code",
   "execution_count": 4,
   "metadata": {},
   "outputs": [],
   "source": [
    "from lecture15_helpers import *"
   ]
  },
  {
   "cell_type": "code",
   "execution_count": 5,
   "metadata": {},
   "outputs": [],
   "source": [
    "N = 15\n",
    "\n",
    "num_estimation_wires = int(np.log2(N) + 1)\n",
    "num_target_wires = num_estimation_wires\n",
    "num_work_wires = num_target_wires + 2\n",
    "total_wires = num_estimation_wires + num_target_wires + num_work_wires\n",
    "\n",
    "estimation_wires = range(num_estimation_wires)\n",
    "target_wires = range(num_estimation_wires, num_estimation_wires + num_target_wires)\n",
    "work_wires = range(target_wires[-1] + 1,  target_wires[-1] + 1 + num_work_wires)\n",
    "\n",
    "dev = qml.device('default.qubit', wires=total_wires, shots=100)"
   ]
  },
  {
   "cell_type": "code",
   "execution_count": 6,
   "metadata": {},
   "outputs": [],
   "source": [
    "def hadamard_transform(wires):\n",
    "    for wire in wires:\n",
    "        qml.Hadamard(wires=wire)\n",
    "\n",
    "@qml.qnode(dev)\n",
    "def find_order(N, a):\n",
    "    # Prepare the target register in some state\n",
    "    qml.PauliX(wires=target_wires[-1])\n",
    "\n",
    "    # Run QPE\n",
    "    hadamard_transform(estimation_wires)\n",
    "     \n",
    "    for est_wire in range(num_estimation_wires):\n",
    "        power_of_2 = num_estimation_wires - est_wire - 1\n",
    "        multiply_by = pow(a, 2 ** power_of_2) % N\n",
    "        qml.ctrl(qml.Multiplier, control=est_wire)(multiply_by, target_wires, mod=N, work_wires=work_wires)\n",
    "\n",
    "    qml.adjoint(qml.QFT)(estimation_wires)\n",
    "\n",
    "    return qml.sample(wires=estimation_wires)"
   ]
  },
  {
   "cell_type": "code",
   "execution_count": 7,
   "metadata": {},
   "outputs": [
    {
     "name": "stdout",
     "output_type": "stream",
     "text": [
      "[4, 1, 4, 1, 4, 1, 2, 1, 1, 2, 4, 1, 4, 4, 4, 1, 1, 1, 4, 2, 4, 4, 4, 1, 1, 1, 1, 1, 4, 4, 4, 4, 4, 1, 2, 4, 4, 2, 2, 1, 4, 1, 1, 4, 4, 4, 4, 4, 4, 4, 4, 4, 4, 4, 4, 4, 1, 1, 4, 4, 4, 2, 1, 4, 2, 4, 2, 2, 2, 2, 2, 2, 2, 2, 4, 4, 4, 2, 4, 4, 4, 1, 4, 4, 4, 4, 4, 1, 4, 1, 1, 4, 4, 4, 1, 2, 4, 1, 4, 4]\n"
     ]
    }
   ],
   "source": [
    "samples = find_order(N, 2)\n",
    "phases = [fractional_binary_to_float(sample) for sample in samples]\n",
    "est_r = [phase_to_order(phase, N) for phase in phases]\n",
    "\n",
    "print(est_r)"
   ]
  },
  {
   "cell_type": "code",
   "execution_count": 8,
   "metadata": {},
   "outputs": [
    {
     "name": "stdout",
     "output_type": "stream",
     "text": [
      " 0: ──H─╭●──────────────────────────────────────────────╭QFT†─┤ ╭Sample\n",
      " 1: ──H─│───────────╭●──────────────────────────────────├QFT†─┤ ├Sample\n",
      " 2: ──H─│───────────│───────────╭●──────────────────────├QFT†─┤ ├Sample\n",
      " 3: ──H─│───────────│───────────│───────────╭●──────────╰QFT†─┤ ╰Sample\n",
      " 4: ────├Multiplier─├Multiplier─├Multiplier─├Multiplier───────┤        \n",
      " 5: ────├Multiplier─├Multiplier─├Multiplier─├Multiplier───────┤        \n",
      " 6: ────├Multiplier─├Multiplier─├Multiplier─├Multiplier───────┤        \n",
      " 7: ──X─├Multiplier─├Multiplier─├Multiplier─├Multiplier───────┤        \n",
      " 8: ────├Multiplier─├Multiplier─├Multiplier─├Multiplier───────┤        \n",
      " 9: ────├Multiplier─├Multiplier─├Multiplier─├Multiplier───────┤        \n",
      "10: ────├Multiplier─├Multiplier─├Multiplier─├Multiplier───────┤        \n",
      "11: ────├Multiplier─├Multiplier─├Multiplier─├Multiplier───────┤        \n",
      "12: ────├Multiplier─├Multiplier─├Multiplier─├Multiplier───────┤        \n",
      "13: ────╰Multiplier─╰Multiplier─╰Multiplier─╰Multiplier───────┤        \n"
     ]
    }
   ],
   "source": [
    "print(qml.draw(find_order)(N, 2))"
   ]
  },
  {
   "cell_type": "markdown",
   "metadata": {},
   "source": [
    "## Demo 2: Shor's algorithm"
   ]
  },
  {
   "cell_type": "markdown",
   "metadata": {},
   "source": [
    "<img src=\"fig/shor-flowchart.jpeg\" width=\"300px\">"
   ]
  },
  {
   "cell_type": "markdown",
   "metadata": {},
   "source": [
    "For a more detailed implementation, including all the operations involved in modular exponentiation, you can check out my [work-in-progress PennyLane demo](https://qml-build-previews.pennylane.ai/pull_request_build_preview/1010/qml/demos/tutorial_shor_catalyst) (link is to a PR build; not final version)."
   ]
  },
  {
   "cell_type": "code",
   "execution_count": 9,
   "metadata": {},
   "outputs": [],
   "source": [
    "def shors_algorithm(N):\n",
    "    p, q = 0, 0\n",
    "\n",
    "    while p * q != N:\n",
    "        a = int(np.random.choice(np.arange(2, N - 1)))\n",
    "        print(f\"Trying a = {a}\\n\") \n",
    "\n",
    "        if np.gcd(N, a) != 1:\n",
    "            print(f\"a = {a} has a common factor with N\\n\")\n",
    "            continue\n",
    "            # p = np.gcd(N, a)\n",
    "            # return p, N // p\n",
    "\n",
    "        samples = find_order(N, a)\n",
    "        phases = [fractional_binary_to_float(sample) for sample in samples]\n",
    "        est_r = [phase_to_order(phase, N) for phase in phases]\n",
    "\n",
    "        successes = 0\n",
    " \n",
    "        for r in est_r:\n",
    "            if r % 2 == 0:\n",
    "                guess_square_root = (a ** (r // 2)) % N\n",
    "    \n",
    "                if guess_square_root not in [1, N - 1]:\n",
    "                    p = np.gcd(N, guess_square_root - 1)\n",
    "                    q = np.gcd(N, guess_square_root + 1)\n",
    "                    if p * q == N:\n",
    "                        successes += 1\n",
    "        if successes > 0:\n",
    "            break\n",
    "        \n",
    "    if successes > 0:\n",
    "        print(f\"Success probability = {successes/dev.shots.total_shots}\")\n",
    "        \n",
    "    else:\n",
    "        print(f\"Solution not found after {dev.shots.total_shots} shots.\")\n",
    "        \n",
    "    return p, q"
   ]
  },
  {
   "cell_type": "code",
   "execution_count": 10,
   "metadata": {},
   "outputs": [
    {
     "name": "stdout",
     "output_type": "stream",
     "text": [
      "Trying a = 8\n",
      "\n",
      "Success probability = 0.55\n",
      "Found solution N = 15 = 3 x 5\n"
     ]
    }
   ],
   "source": [
    "p, q = shors_algorithm(N)\n",
    "print(f\"Found solution N = {N} = {p} x {q}\")"
   ]
  },
  {
   "cell_type": "code",
   "execution_count": null,
   "metadata": {},
   "outputs": [],
   "source": []
  },
  {
   "cell_type": "code",
   "execution_count": null,
   "metadata": {},
   "outputs": [],
   "source": []
  }
 ],
 "metadata": {
  "kernelspec": {
   "display_name": "Python 3 (ipykernel)",
   "language": "python",
   "name": "python3"
  },
  "language_info": {
   "codemirror_mode": {
    "name": "ipython",
    "version": 3
   },
   "file_extension": ".py",
   "mimetype": "text/x-python",
   "name": "python",
   "nbconvert_exporter": "python",
   "pygments_lexer": "ipython3",
   "version": "3.10.12"
  }
 },
 "nbformat": 4,
 "nbformat_minor": 4
}
