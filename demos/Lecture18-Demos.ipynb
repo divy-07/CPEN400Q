{
 "cells": [
  {
   "cell_type": "markdown",
   "id": "e530df96-e795-4dba-86ff-7f969d436c0f",
   "metadata": {},
   "source": [
    "# Demos: Lecture 18"
   ]
  },
  {
   "cell_type": "code",
   "execution_count": 1,
   "id": "2d8ba658-efef-45ca-8ea8-5ea6f12a6831",
   "metadata": {},
   "outputs": [],
   "source": [
    "import pennylane as qml\n",
    "from pennylane import numpy as np\n",
    "import matplotlib.pyplot as plt\n",
    "from scipy.linalg import expm"
   ]
  },
  {
   "cell_type": "markdown",
   "id": "8bf34752-3f98-48b1-9874-18b9c03b180e",
   "metadata": {},
   "source": [
    "## Exercise 1"
   ]
  },
  {
   "cell_type": "markdown",
   "id": "5288fe64-2376-4c2c-b4ea-6d12baf21915",
   "metadata": {},
   "source": [
    "Consider two qubits interacting under the Hamiltonian\n",
    "  \\begin{equation*}\n",
    "    \\hat{H} = -3 (Z_{0} + Z_{1}) + 2 Z_{0} Z_{1} + 4(X_{0} + X_{1})\n",
    "  \\end{equation*}\n",
    " \n",
    "What is the energy of the system if the qubits are in state\n",
    "  \\begin{equation*}\n",
    "    \\ket{\\psi} = \\ket{+} \\otimes \\ket{0}\n",
    "  \\end{equation*}"
   ]
  },
  {
   "cell_type": "code",
   "execution_count": 2,
   "id": "9a3e76ab-19d2-44f6-a0bd-3e118c08f9ce",
   "metadata": {},
   "outputs": [],
   "source": [
    "coeffs = [-3, -3, 2, 4, 4]\n",
    "obs = [qml.PauliZ(0), qml.PauliZ(1), qml.PauliZ(0) @ qml.PauliZ(1), qml.PauliX(0), qml.PauliX(1)]"
   ]
  },
  {
   "cell_type": "code",
   "execution_count": 3,
   "id": "fca5e8b3-c56c-4cfe-84ab-51799508f04e",
   "metadata": {},
   "outputs": [],
   "source": [
    "H = qml.Hamiltonian(coeffs, obs)"
   ]
  },
  {
   "cell_type": "code",
   "execution_count": 4,
   "id": "62841e51-6f9d-46a8-ab9d-e1607a48f3f3",
   "metadata": {},
   "outputs": [
    {
     "name": "stdout",
     "output_type": "stream",
     "text": [
      "  (-3) [Z0]\n",
      "+ (-3) [Z1]\n",
      "+ (4) [X0]\n",
      "+ (4) [X1]\n",
      "+ (2) [Z0 Z1]\n"
     ]
    }
   ],
   "source": [
    "print(H)"
   ]
  },
  {
   "cell_type": "code",
   "execution_count": 5,
   "id": "14a74af5-39ff-4aaa-80dd-b12c7993e74a",
   "metadata": {},
   "outputs": [],
   "source": [
    "H_mat = qml.matrix(H)"
   ]
  },
  {
   "cell_type": "code",
   "execution_count": 6,
   "id": "71c5329d-b2bd-43d0-beea-008aad88d45f",
   "metadata": {},
   "outputs": [
    {
     "data": {
      "text/plain": [
       "array([[-4.+0.j,  4.+0.j,  4.+0.j,  0.+0.j],\n",
       "       [ 4.+0.j, -2.+0.j,  0.+0.j,  4.+0.j],\n",
       "       [ 4.+0.j,  0.+0.j, -2.+0.j,  4.+0.j],\n",
       "       [ 0.+0.j,  4.+0.j,  4.+0.j,  8.+0.j]])"
      ]
     },
     "execution_count": 6,
     "metadata": {},
     "output_type": "execute_result"
    }
   ],
   "source": [
    "H_mat"
   ]
  },
  {
   "cell_type": "code",
   "execution_count": 7,
   "id": "cd3dddac-b91c-4e12-9fbc-b6897800715a",
   "metadata": {},
   "outputs": [
    {
     "data": {
      "text/plain": [
       "tensor([-9.56829032, -2.        ,  0.61040619, 10.95788413], requires_grad=True)"
      ]
     },
     "execution_count": 7,
     "metadata": {},
     "output_type": "execute_result"
    }
   ],
   "source": [
    "np.linalg.eigvalsh(H_mat)"
   ]
  },
  {
   "cell_type": "code",
   "execution_count": 19,
   "id": "7adb391d-20d6-4f47-be86-9d9112a5192e",
   "metadata": {},
   "outputs": [
    {
     "data": {
      "text/plain": [
       "array([[-0.0803559 -0.31847306j,  0.56075454-0.05709391j,\n",
       "         0.56075454-0.05709391j, -0.40622293+0.3028036j ],\n",
       "       [ 0.56075454-0.05709391j, -0.3111742 +0.4325405j ,\n",
       "         0.10497264-0.47675692j, -0.04857985+0.39711149j],\n",
       "       [ 0.56075454-0.05709391j,  0.10497264-0.47675692j,\n",
       "        -0.3111742 +0.4325405j , -0.04857985+0.39711149j],\n",
       "       [-0.40622293+0.3028036j , -0.04857985+0.39711149j,\n",
       "        -0.04857985+0.39711149j,  0.07857173+0.64575871j]])"
      ]
     },
     "execution_count": 19,
     "metadata": {},
     "output_type": "execute_result"
    }
   ],
   "source": [
    "expm(-1j * 1 * H_mat)"
   ]
  },
  {
   "cell_type": "code",
   "execution_count": 8,
   "id": "dacb6050-74c6-4af7-83a9-81fc7eeba726",
   "metadata": {},
   "outputs": [],
   "source": [
    "dev = qml.device(\"default.qubit\", wires=2)\n",
    "\n",
    "@qml.qnode(dev)\n",
    "def prepare_state():\n",
    "    qml.Hadamard(wires=0)\n",
    "    return qml.expval(H"
   ]
  },
  {
   "cell_type": "code",
   "execution_count": 9,
   "id": "47cbfc42-81eb-482e-8564-db282635f7ca",
   "metadata": {},
   "outputs": [
    {
     "data": {
      "text/plain": [
       "tensor(1., requires_grad=True)"
      ]
     },
     "execution_count": 9,
     "metadata": {},
     "output_type": "execute_result"
    }
   ],
   "source": [
    "prepare_state()"
   ]
  },
  {
   "cell_type": "markdown",
   "id": "f1de2e7c-f362-46e4-aed0-b3739cfddc13",
   "metadata": {
    "tags": []
   },
   "source": [
    "## Demo 2: Time evolution"
   ]
  },
  {
   "cell_type": "code",
   "execution_count": 10,
   "id": "2e5f3e5d-8abb-4621-8e7f-3526c684a90c",
   "metadata": {},
   "outputs": [],
   "source": [
    "coeffs = [-2, -2]\n",
    "obs = [qml.PauliZ(0), qml.PauliZ(1)]\n",
    "H = qml.Hamiltonian(coeffs, obs)"
   ]
  },
  {
   "cell_type": "code",
   "execution_count": 11,
   "id": "2c990724-7240-45f1-89cc-afe3c2a94009",
   "metadata": {},
   "outputs": [],
   "source": [
    "dev = qml.device(\"default.qubit\", wires=2)\n",
    "\n",
    "@qml.qnode(dev)\n",
    "def version_1(t):\n",
    "    qml.Hadamard(wires=0)\n",
    "    qml.Hadamard(wires=1)\n",
    "    qml.evolve(H, t)\n",
    "    return qml.expval(qml.PauliX(wires=0))"
   ]
  },
  {
   "cell_type": "code",
   "execution_count": 12,
   "id": "100b9f18-3038-4efa-bfbd-e7a42f53199b",
   "metadata": {},
   "outputs": [
    {
     "name": "stderr",
     "output_type": "stream",
     "text": [
      "/home/olivia/Software/anaconda3/envs/cpen400q/lib/python3.12/site-packages/pennylane/ops/op_math/exp.py:399: UserWarning: The autograd matrix for Evolution([0.-0.j         0.-0.02020202j 0.-0.04040404j 0.-0.06060606j\n",
      " 0.-0.08080808j 0.-0.1010101j  0.-0.12121212j 0.-0.14141414j\n",
      " 0.-0.16161616j 0.-0.18181818j 0.-0.2020202j  0.-0.22222222j\n",
      " 0.-0.24242424j 0.-0.26262626j 0.-0.28282828j 0.-0.3030303j\n",
      " 0.-0.32323232j 0.-0.34343434j 0.-0.36363636j 0.-0.38383838j\n",
      " 0.-0.4040404j  0.-0.42424242j 0.-0.44444444j 0.-0.46464646j\n",
      " 0.-0.48484848j 0.-0.50505051j 0.-0.52525253j 0.-0.54545455j\n",
      " 0.-0.56565657j 0.-0.58585859j 0.-0.60606061j 0.-0.62626263j\n",
      " 0.-0.64646465j 0.-0.66666667j 0.-0.68686869j 0.-0.70707071j\n",
      " 0.-0.72727273j 0.-0.74747475j 0.-0.76767677j 0.-0.78787879j\n",
      " 0.-0.80808081j 0.-0.82828283j 0.-0.84848485j 0.-0.86868687j\n",
      " 0.-0.88888889j 0.-0.90909091j 0.-0.92929293j 0.-0.94949495j\n",
      " 0.-0.96969697j 0.-0.98989899j 0.-1.01010101j 0.-1.03030303j\n",
      " 0.-1.05050505j 0.-1.07070707j 0.-1.09090909j 0.-1.11111111j\n",
      " 0.-1.13131313j 0.-1.15151515j 0.-1.17171717j 0.-1.19191919j\n",
      " 0.-1.21212121j 0.-1.23232323j 0.-1.25252525j 0.-1.27272727j\n",
      " 0.-1.29292929j 0.-1.31313131j 0.-1.33333333j 0.-1.35353535j\n",
      " 0.-1.37373737j 0.-1.39393939j 0.-1.41414141j 0.-1.43434343j\n",
      " 0.-1.45454545j 0.-1.47474747j 0.-1.49494949j 0.-1.51515152j\n",
      " 0.-1.53535354j 0.-1.55555556j 0.-1.57575758j 0.-1.5959596j\n",
      " 0.-1.61616162j 0.-1.63636364j 0.-1.65656566j 0.-1.67676768j\n",
      " 0.-1.6969697j  0.-1.71717172j 0.-1.73737374j 0.-1.75757576j\n",
      " 0.-1.77777778j 0.-1.7979798j  0.-1.81818182j 0.-1.83838384j\n",
      " 0.-1.85858586j 0.-1.87878788j 0.-1.8989899j  0.-1.91919192j\n",
      " 0.-1.93939394j 0.-1.95959596j 0.-1.97979798j 0.-2.j        ] Hamiltonian) is not differentiable. Use a different interface if you need backpropagation.\n",
      "  warn(\n"
     ]
    }
   ],
   "source": [
    "t = np.linspace(0, 2, 100)\n",
    "res = version_1(t)"
   ]
  },
  {
   "cell_type": "code",
   "execution_count": 13,
   "id": "e8b62b38-d38c-43a3-b7d3-a67994e20baa",
   "metadata": {},
   "outputs": [
    {
     "data": {
      "text/plain": [
       "[<matplotlib.lines.Line2D at 0x7c227fb463c0>]"
      ]
     },
     "execution_count": 13,
     "metadata": {},
     "output_type": "execute_result"
    },
    {
     "data": {
      "image/png": "[encoded data removed]",
      "text/plain": [
       "<Figure size 640x480 with 1 Axes>"
      ]
     },
     "metadata": {},
     "output_type": "display_data"
    }
   ],
   "source": [
    "plt.plot(t, res)"
   ]
  },
  {
   "cell_type": "code",
   "execution_count": 14,
   "id": "ad54492b-7764-497a-a165-4d82bba568f4",
   "metadata": {},
   "outputs": [],
   "source": [
    "@qml.qnode(dev)\n",
    "def version_2(t):\n",
    "    qml.Hadamard(wires=0)\n",
    "    qml.Hadamard(wires=1)\n",
    "    qml.RZ(2 * 2 * t, wires=0)\n",
    "    qml.RZ(2 * 2 * t, wires=1)\n",
    "    return qml.expval(qml.PauliX(wires=0))\n",
    "\n",
    "t = np.linspace(0, 2, 100)\n",
    "res = version_2(t)"
   ]
  },
  {
   "cell_type": "code",
   "execution_count": 15,
   "id": "69ffe28a-90ba-4b25-978c-03e4414dfb38",
   "metadata": {},
   "outputs": [
    {
     "data": {
      "text/plain": [
       "[<matplotlib.lines.Line2D at 0x7c2270fbe150>]"
      ]
     },
     "execution_count": 15,
     "metadata": {},
     "output_type": "execute_result"
    },
    {
     "data": {
      "image/png": "[encoded data removed]",
      "text/plain": [
       "<Figure size 640x480 with 1 Axes>"
      ]
     },
     "metadata": {},
     "output_type": "display_data"
    }
   ],
   "source": [
    "plt.plot(t, res)"
   ]
  },
  {
   "cell_type": "code",
   "execution_count": null,
   "id": "92957c94-50a3-4550-be90-6b1fc576a4b2",
   "metadata": {},
   "outputs": [],
   "source": []
  }
 ],
 "metadata": {
  "kernelspec": {
   "display_name": "Python 3 (ipykernel)",
   "language": "python",
   "name": "python3"
  },
  "language_info": {
   "codemirror_mode": {
    "name": "ipython",
    "version": 3
   },
   "file_extension": ".py",
   "mimetype": "text/x-python",
   "name": "python",
   "nbconvert_exporter": "python",
   "pygments_lexer": "ipython3",
   "version": "3.12.0"
  }
 },
 "nbformat": 4,
 "nbformat_minor": 5
}
