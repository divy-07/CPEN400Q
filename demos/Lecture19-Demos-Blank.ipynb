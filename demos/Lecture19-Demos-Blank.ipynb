{
 "cells": [
  {
   "cell_type": "markdown",
   "id": "1ecc2235-07c3-4098-8bb1-cd170f86e5c5",
   "metadata": {},
   "source": [
    "# Demos: Lecture 19"
   ]
  },
  {
   "cell_type": "code",
   "execution_count": null,
   "id": "f7686aae-1335-4c15-8153-2ff494c30043",
   "metadata": {},
   "outputs": [],
   "source": [
    "import pennylane as qml\n",
    "from pennylane import numpy as np\n",
    "import matplotlib.pyplot as plt\n",
    "from scipy.linalg import expm"
   ]
  },
  {
   "cell_type": "markdown",
   "id": "de46669b-3cc2-47c4-aa6c-942ea3aed319",
   "metadata": {},
   "source": [
    "## Demo 1: Pauli circuit decomposition"
   ]
  },
  {
   "cell_type": "code",
   "execution_count": null,
   "id": "00eb1e2a-7913-4324-8126-9f8858875512",
   "metadata": {},
   "outputs": [],
   "source": [
    "dev = qml.device('default.qubit', wires=4)\n",
    "\n",
    "@qml.compile(pipeline=[], basis_set=[\"RX\", \"RY\", \"RZ\", \"Hadamard\", \"CNOT\"])\n",
    "@qml.qnode(dev)\n",
    "def pauli_rot(t):\n",
    "    for wire in dev.wires:\n",
    "        qml.Hadamard(wires=wire)\n",
    "    qml.evolve(qml.PauliX(0) @ qml.PauliY(1) @ qml.PauliZ(3), t)\n",
    "    qml.evolve(qml.PauliX(0) @ qml.PauliY(2) @ qml.PauliZ(3), t)\n",
    "    return qml.expval(qml.PauliX(wires=0) @ qml.PauliX(wires=1))"
   ]
  },
  {
   "cell_type": "code",
   "execution_count": null,
   "id": "2ad05cdf-6b9d-4348-b789-9db425946479",
   "metadata": {},
   "outputs": [],
   "source": [
    "print(qml.draw(pauli_rot)(0.5))"
   ]
  },
  {
   "cell_type": "code",
   "execution_count": null,
   "id": "1d9e8518-5d3d-4491-8545-23c5d2dee1f7",
   "metadata": {},
   "outputs": [],
   "source": [
    "times = np.linspace(0, 10, 100)\n",
    "results = [pauli_rot(t) for t in times]\n",
    "plt.plot(times, results)"
   ]
  },
  {
   "cell_type": "markdown",
   "id": "cfe02b53-191f-4056-bb08-2eca70feeed0",
   "metadata": {},
   "source": [
    "## Demo 2: commutation chaos"
   ]
  },
  {
   "cell_type": "code",
   "execution_count": null,
   "id": "5b267c90-29e3-496b-8e33-9d024462a443",
   "metadata": {},
   "outputs": [],
   "source": [
    "H = qml.Hamiltonian([1, 1], [qml.PauliZ(0), qml.PauliX(0)])\n",
    "\n",
    "def construct_unitary(t):\n",
    "    return expm(-1j * t * qml.matrix(H))"
   ]
  },
  {
   "cell_type": "code",
   "execution_count": null,
   "id": "c1551e16-338c-42c2-87c5-efdd359b4ebf",
   "metadata": {},
   "outputs": [],
   "source": [
    "dev = qml.device('default.qubit', wires=1)\n",
    "\n",
    "@qml.qnode(dev)\n",
    "def change_pauli_order(t, exact=False, reverse=False):\n",
    "    qml.Hadamard(wires=0)\n",
    "\n",
    "    if exact:\n",
    "        qml.QubitUnitary(construct_unitary(t), wires=0)\n",
    "    else:\n",
    "        if reverse:\n",
    "            qml.evolve(qml.PauliX(0), t)\n",
    "            qml.evolve(qml.PauliZ(0), t)\n",
    "        else:\n",
    "            qml.evolve(qml.PauliZ(0), t)\n",
    "            qml.evolve(qml.PauliX(0), t)\n",
    "    \n",
    "    return qml.expval(qml.PauliY(wires=0))"
   ]
  },
  {
   "cell_type": "code",
   "execution_count": null,
   "id": "3692880b-8b59-4ebe-bd5e-7b9a90f3517e",
   "metadata": {},
   "outputs": [],
   "source": [
    "results_exact = [change_pauli_order(t, exact=True) for t in times]\n",
    "results = [change_pauli_order(t) for t in times]\n",
    "results_reversed = [change_pauli_order(t, reverse=True) for t in times]\n",
    "\n",
    "plt.figure(figsize=(12, 8))\n",
    "plt.plot(times, results_exact, label=\"True\")\n",
    "plt.plot(times, results, label=\"Original\")\n",
    "plt.plot(times, results_reversed, label=\"Reversed\")\n",
    "plt.legend(fontsize=14)\n",
    "plt.xticks(fontsize=14)\n",
    "plt.yticks(fontsize=14)\n",
    "plt.xlabel(\"Evolution time\", fontsize=14)\n",
    "plt.ylabel(\"<Y>\", fontsize=14)\n",
    "plt.show()"
   ]
  },
  {
   "cell_type": "markdown",
   "id": "776e8622-13fb-4749-b73e-2bf0e6dd2be9",
   "metadata": {},
   "source": [
    "## Demo 3: Trotterization"
   ]
  },
  {
   "cell_type": "code",
   "execution_count": null,
   "id": "ae3b716f-b36b-41f3-9127-31097f1a6fa2",
   "metadata": {},
   "outputs": [],
   "source": [
    "dev = qml.device('default.qubit', wires=1)\n",
    "\n",
    "@qml.compile(pipeline=[], basis_set=[\"RX\", \"RY\", \"RZ\", \"Hadamard\", \"CNOT\"])\n",
    "@qml.qnode(dev)\n",
    "def trotterize(t, exact=False, trotter_steps=1):\n",
    "    qml.Hadamard(wires=0)\n",
    "\n",
    "    if exact:\n",
    "        qml.QubitUnitary(construct_unitary(t), wires=0)\n",
    "    else:\n",
    "        qml.exp(H, -1j * t, num_steps=trotter_steps)\n",
    "    \n",
    "    return qml.expval(qml.PauliY(wires=0))"
   ]
  },
  {
   "cell_type": "code",
   "execution_count": null,
   "id": "df1bc73d-2775-4776-a451-9ab30ca27f88",
   "metadata": {},
   "outputs": [],
   "source": [
    "print(qml.draw(trotterize)(0.5, exact=False, trotter_steps=5))"
   ]
  },
  {
   "cell_type": "code",
   "execution_count": null,
   "id": "c35e18ff-5cf5-4925-82ee-35cc1b63a89c",
   "metadata": {},
   "outputs": [],
   "source": [
    "results_exact = [trotterize(t, exact=True) for t in times]\n",
    "results_1_step = [trotterize(t, trotter_steps=1) for t in times]\n",
    "results_5_step = [trotterize(t, trotter_steps=5) for t in times]\n",
    "results_10_step = [trotterize(t, trotter_steps=10) for t in times]\n",
    "results_20_step = [trotterize(t, trotter_steps=20) for t in times]\n",
    "results_100_step = [trotterize(t, trotter_steps=100) for t in times]"
   ]
  },
  {
   "cell_type": "code",
   "execution_count": null,
   "id": "1d041179-3225-44a5-927b-ee90eb65a009",
   "metadata": {},
   "outputs": [],
   "source": [
    "plt.figure(figsize=(16, 12))\n",
    "plt.plot(times, results_exact, label=\"True\", linestyle=\"--\")\n",
    "plt.plot(times, results_1_step, label=\"1 step\")\n",
    "plt.plot(times, results_5_step, label=\"5 step\")\n",
    "plt.plot(times, results_10_step, label=\"10 step\")\n",
    "plt.plot(times, results_20_step, label=\"20 step\")\n",
    "plt.plot(times, results_100_step, label=\"100 step\")\n",
    "plt.legend(fontsize=14)\n",
    "plt.xticks(fontsize=14)\n",
    "plt.yticks(fontsize=14)\n",
    "plt.xlabel(\"Evolution time\", fontsize=14)\n",
    "plt.ylabel(\"<Y>\", fontsize=14)\n",
    "plt.show()"
   ]
  },
  {
   "cell_type": "code",
   "execution_count": null,
   "id": "3c1ad205-150c-42b6-a7a7-89eb8a8b5ea9",
   "metadata": {},
   "outputs": [],
   "source": []
  }
 ],
 "metadata": {
  "kernelspec": {
   "display_name": "Python 3 (ipykernel)",
   "language": "python",
   "name": "python3"
  },
  "language_info": {
   "codemirror_mode": {
    "name": "ipython",
    "version": 3
   },
   "file_extension": ".py",
   "mimetype": "text/x-python",
   "name": "python",
   "nbconvert_exporter": "python",
   "pygments_lexer": "ipython3",
   "version": "3.11.4"
  }
 },
 "nbformat": 4,
 "nbformat_minor": 5
}
