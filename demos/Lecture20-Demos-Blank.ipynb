{
 "cells": [
  {
   "cell_type": "markdown",
   "id": "1ecc2235-07c3-4098-8bb1-cd170f86e5c5",
   "metadata": {},
   "source": [
    "# Demos: Lecture 20"
   ]
  },
  {
   "cell_type": "code",
   "execution_count": null,
   "id": "f7686aae-1335-4c15-8153-2ff494c30043",
   "metadata": {},
   "outputs": [],
   "source": [
    "import pennylane as qml\n",
    "from pennylane import numpy as np\n",
    "import matplotlib.pyplot as plt\n",
    "from scipy.linalg import expm\n",
    "\n",
    "from lecture20_helpers import *"
   ]
  },
  {
   "cell_type": "markdown",
   "id": "6707f3fe-8f32-4db9-a822-cef37ef31bb4",
   "metadata": {},
   "source": [
    "## Demo 1: commutation chaos"
   ]
  },
  {
   "cell_type": "markdown",
   "id": "7e4911a8-fcf0-4db4-b235-e96f29bb0fd3",
   "metadata": {},
   "source": [
    "Time evolution under the Hamiltonian\n",
    "\n",
    "$$\n",
    "\\hat{H} = - Z - X\n",
    "$$"
   ]
  },
  {
   "cell_type": "code",
   "execution_count": null,
   "id": "5b1ac51c-5e28-4e13-b4a8-898f03e4f70c",
   "metadata": {},
   "outputs": [],
   "source": [
    "H = qml.Hamiltonian([1, 1], [qml.PauliZ(0), qml.PauliX(0)])\n",
    "\n",
    "def construct_unitary(t):\n",
    "    return expm(-1j * t * qml.matrix(H))"
   ]
  },
  {
   "cell_type": "code",
   "execution_count": null,
   "id": "2a0d9770-8e64-47b1-a307-f73509446c09",
   "metadata": {},
   "outputs": [],
   "source": [
    "dev = qml.device('default.qubit', wires=1)\n",
    "\n",
    "@qml.qnode(dev)\n",
    "def change_pauli_order(t, exact=False, reverse=False):\n",
    "    qml.Hadamard(wires=0)\n",
    "\n",
    "    if exact:\n",
    "        qml.QubitUnitary(construct_unitary(t), wires=0)\n",
    "    else:\n",
    "        if reverse:\n",
    "            qml.evolve(qml.PauliX(0), t)\n",
    "            qml.evolve(qml.PauliZ(0), t)\n",
    "        else:\n",
    "            qml.evolve(qml.PauliZ(0), t)\n",
    "            qml.evolve(qml.PauliX(0), t)\n",
    "    \n",
    "    return qml.expval(qml.PauliY(wires=0))"
   ]
  },
  {
   "cell_type": "code",
   "execution_count": null,
   "id": "668311fb-40fe-4455-9c7f-ecaad615afd9",
   "metadata": {},
   "outputs": [],
   "source": [
    "times = np.linspace(0, 10, 100)\n",
    "\n",
    "results_exact = [change_pauli_order(t, exact=True) for t in times]\n",
    "results = [change_pauli_order(t) for t in times]\n",
    "results_reversed = [change_pauli_order(t, reverse=True) for t in times]\n",
    "\n",
    "plt.figure(figsize=(10, 6))\n",
    "plt.plot(times, results_exact, label=\"True\")\n",
    "plt.plot(times, results, label=\"Original\")\n",
    "plt.plot(times, results_reversed, label=\"Reversed\")\n",
    "plt.legend(fontsize=14)\n",
    "plt.xticks(fontsize=14)\n",
    "plt.yticks(fontsize=14)\n",
    "plt.xlabel(\"Evolution time\", fontsize=14)\n",
    "plt.ylabel(\"<Y>\", fontsize=14)\n",
    "plt.show()"
   ]
  },
  {
   "cell_type": "markdown",
   "id": "7664581b-1d7f-483e-b277-283a1e3855fc",
   "metadata": {},
   "source": [
    "## Demo 2: Trotterization"
   ]
  },
  {
   "cell_type": "code",
   "execution_count": null,
   "id": "6c3a60ca-675a-4390-90e6-7de6e1956253",
   "metadata": {},
   "outputs": [],
   "source": [
    "dev = qml.device('default.qubit', wires=1)\n",
    "\n",
    "@qml.compile(pipeline=[], basis_set=[\"RX\", \"RY\", \"RZ\", \"Hadamard\", \"CNOT\"])\n",
    "@qml.qnode(dev)\n",
    "def trotterize(t, exact=False, trotter_steps=1):\n",
    "    qml.Hadamard(wires=0)\n",
    "\n",
    "    if exact:\n",
    "        qml.QubitUnitary(construct_unitary(t), wires=0)\n",
    "    else:\n",
    "        qml.exp(H, -1j * t, num_steps=trotter_steps)\n",
    "    \n",
    "    return qml.expval(qml.PauliY(wires=0))"
   ]
  },
  {
   "cell_type": "code",
   "execution_count": null,
   "id": "6a2d25c6-131e-4222-8702-faa7df1e8de4",
   "metadata": {},
   "outputs": [],
   "source": [
    "print(qml.draw(trotterize)(0.5, exact=False, trotter_steps=3))"
   ]
  },
  {
   "cell_type": "code",
   "execution_count": null,
   "id": "c6e62f16-635c-494f-abba-c7489a681498",
   "metadata": {},
   "outputs": [],
   "source": [
    "trotter_steps = [1, 2, 5, 10, 20, 50]\n",
    "\n",
    "results_exact = [trotterize(t, exact=True) for t in times]\n",
    "results_trotter = [np.array([trotterize(t, trotter_steps=N_T) for t in times]) for N_T in trotter_steps]"
   ]
  },
  {
   "cell_type": "code",
   "execution_count": null,
   "id": "582af6b4-485a-4331-8019-c18bcc6a3530",
   "metadata": {},
   "outputs": [],
   "source": [
    "plt.figure(figsize=(12, 6))\n",
    "plt.plot(times, results_exact, label=\"True\", linestyle=\"--\")\n",
    "for N_T, res in zip(trotter_steps, results_trotter):\n",
    "    plt.plot(times, res, label=f\"{N_T} steps\")\n",
    "plt.legend(fontsize=14)\n",
    "plt.xticks(fontsize=14)\n",
    "plt.yticks(fontsize=14)\n",
    "plt.xlabel(\"Evolution time\", fontsize=14)\n",
    "plt.ylabel(\"<Y>\", fontsize=14)\n",
    "plt.show()"
   ]
  },
  {
   "cell_type": "markdown",
   "id": "5d9e991c-bdae-44ad-b338-7e261daa77e8",
   "metadata": {},
   "source": [
    "Let's plot the operator error for varying number of Trotter steps."
   ]
  },
  {
   "cell_type": "code",
   "execution_count": null,
   "id": "a1d26a4b-7f6a-49fc-b8f8-d1a554971e89",
   "metadata": {},
   "outputs": [],
   "source": [
    "t = 1\n",
    "exact_matrix = trotterize(t, exact=True)\n",
    "\n",
    "# Take the norm of the difference between the exact/approximate unitary matrices\n",
    "error = [np.linalg.norm(exact_matrix - trotterize(t, trotter_steps=N_T)) for N_T in trotter_steps]"
   ]
  },
  {
   "cell_type": "code",
   "execution_count": null,
   "id": "7a5192fc-b0b9-4a57-a7c6-748ee110b339",
   "metadata": {},
   "outputs": [],
   "source": [
    "plt.plot(trotter_steps, error)\n",
    "plt.xticks(fontsize=14)\n",
    "plt.yticks(fontsize=14)\n",
    "plt.xlabel(\"Number of Trotter steps\", fontsize=14)\n",
    "plt.ylabel(\"Approximation error\", fontsize=14)\n",
    "plt.show()"
   ]
  },
  {
   "cell_type": "markdown",
   "id": "de46669b-3cc2-47c4-aa6c-942ea3aed319",
   "metadata": {},
   "source": [
    "## Demo 3: time evolution of the deuteron"
   ]
  },
  {
   "cell_type": "code",
   "execution_count": null,
   "id": "d63c5aba-dc18-4823-bd2c-c5dc9a73b0ac",
   "metadata": {},
   "outputs": [],
   "source": [
    "def construct_hamiltonian(wires):\n",
    "    coeffs = [15.532, 0.218, -6.125, -9.625, -2.143, -3.913, -2.143, -3.913]\n",
    "    \n",
    "    ops = [\n",
    "        qml.Identity(wires[0]), \n",
    "        qml.PauliZ(wires[0]),\n",
    "        qml.PauliZ(wires[1]),\n",
    "        qml.PauliZ(wires[2]),\n",
    "        qml.PauliX(wires[0]) @ qml.PauliX(wires[1]),\n",
    "        qml.PauliX(wires[1]) @ qml.PauliX(wires[2]),\n",
    "        qml.PauliY(wires[0]) @ qml.PauliY(wires[1]),\n",
    "        qml.PauliY(wires[1]) @ qml.PauliY(wires[2]),\n",
    "    ]\n",
    "    \n",
    "    return qml.Hamiltonian(coeffs, ops)"
   ]
  },
  {
   "cell_type": "code",
   "execution_count": null,
   "id": "ca75dae5-ee83-46f3-a69d-984f993ce023",
   "metadata": {},
   "outputs": [],
   "source": [
    "H = construct_hamiltonian([0, 1, 2])\n",
    "print(H)"
   ]
  },
  {
   "cell_type": "code",
   "execution_count": null,
   "id": "dbcbb4c1-4bfe-4d5b-9447-c6dc02e02898",
   "metadata": {},
   "outputs": [],
   "source": [
    "eigvals, eigvecs = np.linalg.eigh(qml.matrix(H))\n",
    "\n",
    "target_eigval = eigvals[0]\n",
    "target_eigvec = eigvecs[:, 0]"
   ]
  },
  {
   "cell_type": "code",
   "execution_count": null,
   "id": "2eabb553-f9f6-41af-8616-3fee6ee3adde",
   "metadata": {},
   "outputs": [],
   "source": [
    "target_eigval"
   ]
  },
  {
   "cell_type": "code",
   "execution_count": null,
   "id": "a435c23e-68b1-482b-9930-bf0cf528706f",
   "metadata": {},
   "outputs": [],
   "source": [
    "target_eigvec"
   ]
  },
  {
   "cell_type": "code",
   "execution_count": null,
   "id": "00eb1e2a-7913-4324-8126-9f8858875512",
   "metadata": {},
   "outputs": [],
   "source": [
    "dev = qml.device('default.qubit', wires=3)\n",
    "\n",
    "def evolve_deuteron(H, t, num_steps=1):\n",
    "    qml.exp(H, -1j * t, num_steps=num_steps)\n",
    "\n",
    "@qml.compile(pipeline=[], basis_set=[\"RX\", \"RY\", \"RZ\", \"Hadamard\", \"CNOT\"])\n",
    "@qml.qnode(dev)\n",
    "def evolve_and_measure(H, t, num_steps=1):\n",
    "    qml.MottonenStatePreparation(target_eigvec, wires=dev.wires)\n",
    "    evolve_deuteron(H, t, num_steps)\n",
    "    return qml.expval(H)"
   ]
  },
  {
   "cell_type": "code",
   "execution_count": null,
   "id": "1d9e8518-5d3d-4491-8545-23c5d2dee1f7",
   "metadata": {},
   "outputs": [],
   "source": [
    "times = np.linspace(0, 1, 10)\n",
    "\n",
    "plt.figure(figsize=(10, 6))\n",
    "plt.axhline(y=target_eigval, color='black', linestyle='--', label=\"Exact\")\n",
    "\n",
    "for N_T in trotter_steps:\n",
    "    results = [evolve_and_measure(H, t, num_steps=N_T) for t in times]\n",
    "    plt.plot(times, results, label=f\"{N_T} steps\")\n",
    "    \n",
    "plt.legend(fontsize=14)\n",
    "plt.xticks(fontsize=14)\n",
    "plt.yticks(fontsize=14)\n",
    "plt.xlabel(\"Evolution time\", fontsize=14)\n",
    "plt.ylabel(\"<H>\", fontsize=14)\n",
    "plt.show()"
   ]
  },
  {
   "cell_type": "markdown",
   "id": "cfe02b53-191f-4056-bb08-2eca70feeed0",
   "metadata": {},
   "source": [
    "## Demo 4: run quantum phase estimation"
   ]
  },
  {
   "cell_type": "code",
   "execution_count": null,
   "id": "2fa41c98-9cd3-4818-8ff4-a63960682593",
   "metadata": {},
   "outputs": [],
   "source": [
    "target_eigval"
   ]
  },
  {
   "cell_type": "code",
   "execution_count": null,
   "id": "6cf52cdb-3e4b-4583-8ff9-f08225f4a6d5",
   "metadata": {},
   "outputs": [],
   "source": [
    "target_eigvec"
   ]
  },
  {
   "cell_type": "markdown",
   "id": "2a93bf13-2eee-4eeb-afb0-1bbe6783c28c",
   "metadata": {},
   "source": [
    "$e^{-iEt} = e^{2\\pi i \\theta}$"
   ]
  },
  {
   "cell_type": "code",
   "execution_count": null,
   "id": "ac8c1ece-80f1-4ed6-aa5d-dc19c2117b98",
   "metadata": {},
   "outputs": [],
   "source": [
    "t = 1\n",
    "u_eigval = t * target_eigval / (-2 * np.pi)"
   ]
  },
  {
   "cell_type": "code",
   "execution_count": null,
   "id": "c6671b55-218f-4572-bce7-54fc81bcb0bb",
   "metadata": {},
   "outputs": [],
   "source": [
    "u_eigval"
   ]
  },
  {
   "cell_type": "code",
   "execution_count": null,
   "id": "0d05790d-b057-4a32-990d-6b81223bec22",
   "metadata": {},
   "outputs": [],
   "source": [
    "n_estimation_wires = 5\n",
    "n_target_wires = 3\n",
    "\n",
    "estimation_wires = list(range(n_estimation_wires))\n",
    "target_wires = list(range(n_estimation_wires, n_estimation_wires+n_target_wires))\n",
    "\n",
    "H_QPE = construct_hamiltonian(target_wires)\n",
    "\n",
    "dev = qml.device(\"default.qubit\", wires=n_estimation_wires+n_target_wires)"
   ]
  },
  {
   "cell_type": "code",
   "execution_count": null,
   "id": "0588ae77-994a-4962-9b95-9025def60984",
   "metadata": {},
   "outputs": [],
   "source": [
    "@qml.qnode(dev)\n",
    "@qml.compile(pipeline=[], basis_set=[\"RX\", \"RY\", \"RZ\", \"Hadamard\", \"PhaseShift\", \"CNOT\"], expand_depth=10)\n",
    "def quantum_phase_estimation(H_QPE, t, num_steps=1):\n",
    "    # Prepare uniform sup on estimation wires\n",
    "    for wire in estimation_wires:\n",
    "        qml.Hadamard(wires=wire)\n",
    "    \n",
    "    # Prepare eigenstate on target wires\n",
    "    qml.MottonenStatePreparation(target_eigvec, wires=target_wires)\n",
    "    \n",
    "    # Apply controlled rotations\n",
    "    for control_wire in estimation_wires:\n",
    "        evolution_time = t * 2 ** (len(estimation_wires) - control_wire - 1) \n",
    "        qml.ctrl(evolve_deuteron, control=control_wire)(H_QPE, evolution_time, num_steps=num_steps)\n",
    "    \n",
    "    # Apply inverse QFT to estimation wires\n",
    "    qml.adjoint(qml.QFT)(wires=estimation_wires)\n",
    "    \n",
    "    return qml.probs(wires=estimation_wires)"
   ]
  },
  {
   "cell_type": "code",
   "execution_count": null,
   "id": "ba94713a-b699-4822-9596-b79a4882c727",
   "metadata": {},
   "outputs": [],
   "source": [
    "print(qml.draw(quantum_phase_estimation)(H_QPE, t))"
   ]
  },
  {
   "cell_type": "code",
   "execution_count": null,
   "id": "3692880b-8b59-4ebe-bd5e-7b9a90f3517e",
   "metadata": {},
   "outputs": [],
   "source": [
    "num_steps = 1\n",
    "res = quantum_phase_estimation(H_QPE, t, num_steps=num_steps)"
   ]
  },
  {
   "cell_type": "code",
   "execution_count": null,
   "id": "4d31bdc1-03be-4502-a01d-10b621385881",
   "metadata": {},
   "outputs": [],
   "source": [
    "get_phase_window(res)"
   ]
  },
  {
   "cell_type": "code",
   "execution_count": null,
   "id": "4e801050-7ca6-490f-a181-96b444d158e0",
   "metadata": {},
   "outputs": [],
   "source": [
    "qml.specs(quantum_phase_estimation)(H_QPE, t, num_steps=num_steps)['resources']"
   ]
  },
  {
   "cell_type": "code",
   "execution_count": null,
   "id": "96094b7f-02ed-4573-8847-d63a3b47a01e",
   "metadata": {},
   "outputs": [],
   "source": []
  }
 ],
 "metadata": {
  "kernelspec": {
   "display_name": "Python 3 (ipykernel)",
   "language": "python",
   "name": "python3"
  },
  "language_info": {
   "codemirror_mode": {
    "name": "ipython",
    "version": 3
   },
   "file_extension": ".py",
   "mimetype": "text/x-python",
   "name": "python",
   "nbconvert_exporter": "python",
   "pygments_lexer": "ipython3",
   "version": "3.10.13"
  }
 },
 "nbformat": 4,
 "nbformat_minor": 5
}
