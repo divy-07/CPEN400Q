{
 "cells": [
  {
   "cell_type": "markdown",
   "id": "e530df96-e795-4dba-86ff-7f969d436c0f",
   "metadata": {},
   "source": [
    "# Demos: Lecture 20"
   ]
  },
  {
   "cell_type": "code",
   "execution_count": null,
   "id": "4cb1b2ce-b9fe-4798-be91-180b3456d1ba",
   "metadata": {},
   "outputs": [],
   "source": [
    "import pennylane as qml\n",
    "from pennylane import numpy as np\n",
    "import matplotlib.pyplot as plt"
   ]
  },
  {
   "cell_type": "markdown",
   "id": "8f12d04c-eb64-4afb-943d-4473ebe7bfef",
   "metadata": {},
   "source": [
    "## Demo 1: phase flip code"
   ]
  },
  {
   "cell_type": "code",
   "execution_count": null,
   "id": "91b42b7c-6af3-4444-a6b7-1fc4afda5822",
   "metadata": {},
   "outputs": [],
   "source": [
    "def prepare_state(wires):\n",
    "    #qml.RY(np.pi/3, wires=wires)\n",
    "    qml.Hadamard(wires=0)\n",
    "    #qml.PauliX(wires=0)\n",
    "\n",
    "def encode_phase_flip(wires):\n",
    "    qml.CNOT(wires=[wires[0], wires[1]])\n",
    "    qml.CNOT(wires=[wires[0], wires[2]])\n",
    "    for wire in wires:\n",
    "        qml.Hadamard(wires=wire)\n",
    "\n",
    "def detect_and_recover_phase_flip(wires):\n",
    "    for wire in wires:\n",
    "        qml.Hadamard(wires=wire)\n",
    "    qml.CNOT(wires=[wires[0], wires[2]])\n",
    "    qml.CNOT(wires=[wires[0], wires[1]])\n",
    "    qml.Toffoli(wires=wires[::-1])\n",
    "\n",
    "dev = qml.device(\"default.mixed\", wires=3)\n",
    "\n",
    "@qml.qnode(dev)\n",
    "def phase_flip_code(phase_to_flip=None):\n",
    "    prepare_state(wires=0)\n",
    "    encode_phase_flip(wires=dev.wires)\n",
    "    if phase_to_flip is not None:\n",
    "        qml.PauliZ(wires=phase_to_flip)\n",
    "    detect_and_recover_phase_flip(dev.wires)\n",
    "    return qml.state()"
   ]
  },
  {
   "cell_type": "code",
   "execution_count": null,
   "id": "5002ab64-7c25-435e-967a-af13136b4f7e",
   "metadata": {},
   "outputs": [],
   "source": [
    "qml.draw_mpl(phase_flip_code)(0)"
   ]
  },
  {
   "cell_type": "code",
   "execution_count": null,
   "id": "d05aab43-9593-4ec0-9d00-dc35dfbdfc8e",
   "metadata": {},
   "outputs": [],
   "source": [
    "qml.math.partial_trace(phase_flip_code(0), indices=[1, 2])"
   ]
  },
  {
   "cell_type": "markdown",
   "id": "20c1bf0d-a8f6-4a64-b85c-f40af16887e4",
   "metadata": {},
   "source": [
    "## Demo 2: Shor 9-qubit code"
   ]
  },
  {
   "cell_type": "code",
   "execution_count": null,
   "id": "ab635eea-d531-4db5-bdf0-4173676ebfe0",
   "metadata": {},
   "outputs": [],
   "source": [
    "def prepare_state(wires):\n",
    "    qml.RY(np.pi/3, wires=wires)\n",
    "    #qml.Hadamard(wires=0)\n",
    "\n",
    "\n",
    "def encode_bit_flip(wires):\n",
    "    qml.CNOT(wires=[wires[0], wires[1]])\n",
    "    qml.CNOT(wires=[wires[0], wires[2]])\n",
    "\n",
    "def detect_and_recover_bit_flip(wires):\n",
    "    qml.CNOT(wires=[wires[0], wires[2]])\n",
    "    qml.CNOT(wires=[wires[0], wires[1]])\n",
    "    qml.Toffoli(wires=wires[::-1])\n",
    "\n",
    "\n",
    "def encode_shor(wires):\n",
    "    encode_phase_flip([wires[0], wires[3], wires[6]])\n",
    "    qml.Barrier()\n",
    "    encode_bit_flip(wires[:3])\n",
    "    encode_bit_flip(wires[3:6])\n",
    "    encode_bit_flip(wires[6:])\n",
    "\n",
    "def detect_and_recover_shor(wires):\n",
    "    detect_and_recover_bit_flip(wires[:3])\n",
    "    detect_and_recover_bit_flip(wires[3:6])\n",
    "    detect_and_recover_bit_flip(wires[6:])\n",
    "    qml.Barrier()\n",
    "    detect_and_recover_phase_flip([wires[0], wires[3], wires[6]])\n",
    "\n",
    "dev = qml.device(\"default.mixed\", wires=9)\n",
    "\n",
    "@qml.qnode(dev)\n",
    "def shor_code(bit_to_flip=None, phase_to_flip=None):\n",
    "    prepare_state(wires=0)\n",
    "    \n",
    "    encode_shor(wires=dev.wires)\n",
    "    qml.Barrier()\n",
    "    # Errors\n",
    "    if bit_to_flip is not None:\n",
    "        qml.PauliX(wires=bit_to_flip)\n",
    "    if phase_to_flip is not None:\n",
    "        qml.PauliZ(wires=phase_to_flip)\n",
    "    qml.Barrier()\n",
    "    \n",
    "    detect_and_recover_shor(dev.wires)\n",
    "    return qml.state()"
   ]
  },
  {
   "cell_type": "code",
   "execution_count": null,
   "id": "77ea5a04-ab0a-4af4-bad1-02ef2d033553",
   "metadata": {},
   "outputs": [],
   "source": [
    "qml.draw_mpl(shor_code)(6, 6)"
   ]
  },
  {
   "cell_type": "code",
   "execution_count": null,
   "id": "76c6d6e2-0cf5-49b7-94ef-7bb565a617a3",
   "metadata": {},
   "outputs": [],
   "source": [
    "qml.math.partial_trace(shor_code(4, 5), indices=list(range(1, 9)))"
   ]
  },
  {
   "cell_type": "markdown",
   "id": "ebfb59c1-d8fe-49ad-a2f1-992bfe590f84",
   "metadata": {},
   "source": [
    "## Demo 3: bit flip code with stabilizers"
   ]
  },
  {
   "cell_type": "code",
   "execution_count": null,
   "id": "2e23d452-bbf7-4fec-8a8f-3f8667480da4",
   "metadata": {},
   "outputs": [],
   "source": [
    "def prepare_state(wires):\n",
    "    #qml.RY(np.pi/3, wires=wires)\n",
    "    qml.Identity(wires=0)\n",
    "    \n",
    "def encode_bit_flip(wires):\n",
    "    qml.CNOT(wires=[wires[0], wires[1]])\n",
    "    qml.CNOT(wires=[wires[0], wires[2]])\n",
    "\n",
    "def measure_stabilizers(wires):\n",
    "    qml.Hadamard(wires=3)\n",
    "    qml.CZ(wires=[0, 3])\n",
    "    qml.CZ(wires=[1, 3])\n",
    "    qml.Hadamard(wires=3)\n",
    "    \n",
    "    qml.Hadamard(wires=4)\n",
    "    qml.CZ(wires=[1, 4])\n",
    "    qml.CZ(wires=[2, 4])\n",
    "    qml.Hadamard(wires=4)\n",
    "\n",
    "dev = qml.device(\"default.mixed\", wires=5)\n",
    "\n",
    "@qml.qnode(dev)\n",
    "def bit_flip_code(bit_to_flip=None):\n",
    "    prepare_state(wires=0)\n",
    "    encode_bit_flip(wires=dev.wires)\n",
    "    qml.Barrier()\n",
    "    if bit_to_flip is not None:\n",
    "        qml.PauliX(wires=bit_to_flip)\n",
    "    qml.Barrier()\n",
    "    measure_stabilizers(dev.wires)\n",
    "    return qml.expval(qml.PauliZ(3)), qml.expval(qml.PauliZ(4))"
   ]
  },
  {
   "cell_type": "code",
   "execution_count": null,
   "id": "981be870-96c4-4afe-b1bf-666afb3bae14",
   "metadata": {},
   "outputs": [],
   "source": [
    "qml.draw_mpl(bit_flip_code)(1)"
   ]
  },
  {
   "cell_type": "code",
   "execution_count": null,
   "id": "7ad48fec-39d6-42ab-8ccc-66b148fa95d1",
   "metadata": {},
   "outputs": [],
   "source": [
    "bit_flip_code(2)"
   ]
  },
  {
   "cell_type": "code",
   "execution_count": null,
   "id": "93858842-8b31-4781-9a93-c00795fef5bf",
   "metadata": {},
   "outputs": [],
   "source": []
  }
 ],
 "metadata": {
  "kernelspec": {
   "display_name": "Python 3 (ipykernel)",
   "language": "python",
   "name": "python3"
  },
  "language_info": {
   "codemirror_mode": {
    "name": "ipython",
    "version": 3
   },
   "file_extension": ".py",
   "mimetype": "text/x-python",
   "name": "python",
   "nbconvert_exporter": "python",
   "pygments_lexer": "ipython3",
   "version": "3.12.3"
  }
 },
 "nbformat": 4,
 "nbformat_minor": 5
}
