{
 "cells": [
  {
   "cell_type": "markdown",
   "id": "e530df96-e795-4dba-86ff-7f969d436c0f",
   "metadata": {},
   "source": [
    "# Demos: Lecture 23"
   ]
  },
  {
   "cell_type": "code",
   "execution_count": null,
   "id": "4cb1b2ce-b9fe-4798-be91-180b3456d1ba",
   "metadata": {},
   "outputs": [],
   "source": [
    "import pennylane as qml\n",
    "from pennylane import numpy as np\n",
    "import matplotlib.pyplot as plt"
   ]
  },
  {
   "cell_type": "markdown",
   "id": "cffede4b-f5ce-4efa-86aa-a0277cbda643",
   "metadata": {},
   "source": [
    "## Demo 1: depolarizing noise"
   ]
  },
  {
   "cell_type": "code",
   "execution_count": null,
   "id": "d9939e5d-2b41-4ad9-a539-c2bdcb03ffe2",
   "metadata": {},
   "outputs": [],
   "source": [
    "dev = qml.device(\"default.mixed\", wires=1)\n",
    "\n",
    "def prepare_state():\n",
    "    qml.RY(2 * np.pi/3, wires=0)\n",
    "\n",
    "@qml.qnode(dev)\n",
    "def circuit_depolarizing(p):\n",
    "    prepare_state()\n",
    "    qml.DepolarizingChannel(p, wires=0)\n",
    "    return qml.probs()"
   ]
  },
  {
   "cell_type": "code",
   "execution_count": null,
   "id": "7c937439-8d3d-4ea5-88a3-70b7af8a6312",
   "metadata": {},
   "outputs": [],
   "source": [
    "circuit_depolarizing(0)"
   ]
  },
  {
   "cell_type": "code",
   "execution_count": null,
   "id": "705bdd08-08de-46ce-8917-6e75c8ae9185",
   "metadata": {},
   "outputs": [],
   "source": [
    "circuit_depolarizing(0.02)"
   ]
  },
  {
   "cell_type": "code",
   "execution_count": null,
   "id": "671cc0d9-4e24-4231-bc52-f046b4bdd5b9",
   "metadata": {},
   "outputs": [],
   "source": [
    "@qml.qnode(dev)\n",
    "def circuit_depolarizing(p):\n",
    "    prepare_state()\n",
    "    qml.DepolarizingChannel(p, wires=0)\n",
    "    return qml.state()"
   ]
  },
  {
   "cell_type": "code",
   "execution_count": null,
   "id": "fddd1a69-1d2a-494e-b9c7-a14ce1eaea93",
   "metadata": {},
   "outputs": [],
   "source": [
    "qml.math.fidelity(circuit_depolarizing(0), circuit_depolarizing(0.05))"
   ]
  },
  {
   "cell_type": "code",
   "execution_count": null,
   "id": "4a39bcde-18ce-4bf6-8ca5-53b6ee3ecf0b",
   "metadata": {},
   "outputs": [],
   "source": [
    "p_values = np.linspace(0., 0.75, 50)\n",
    "\n",
    "plt.scatter(\n",
    "    p_values,\n",
    "    [qml.math.fidelity(circuit_depolarizing(0), circuit_depolarizing(p)) for p in p_values]\n",
    ")"
   ]
  },
  {
   "cell_type": "code",
   "execution_count": null,
   "id": "8c48cf26-87f1-4097-933f-3282b1aa9b85",
   "metadata": {},
   "outputs": [],
   "source": [
    "qml.math.fidelity(circuit_depolarizing(0), np.eye(2)/2)"
   ]
  },
  {
   "cell_type": "markdown",
   "id": "1458f4e3-7d22-4b0b-bb16-016616ded6dd",
   "metadata": {},
   "source": [
    "## Demo 2: Amplitude damping channel"
   ]
  },
  {
   "cell_type": "code",
   "execution_count": null,
   "id": "28b5393f-4f4b-4d33-b758-a4d7d2527c8f",
   "metadata": {},
   "outputs": [],
   "source": [
    "@qml.qnode(dev)\n",
    "def circuit_ampdamp(p):\n",
    "    prepare_state()\n",
    "    qml.AmplitudeDamping(p, wires=0)\n",
    "    return qml.probs()"
   ]
  },
  {
   "cell_type": "code",
   "execution_count": null,
   "id": "8186f28d-4dba-4c95-95bd-a3af4459a0a7",
   "metadata": {},
   "outputs": [],
   "source": [
    "p_values = np.linspace(0., 1, 50)\n",
    "\n",
    "plt.scatter(\n",
    "    p_values,\n",
    "    [circuit_ampdamp(p)[1] for p in p_values]\n",
    ")"
   ]
  },
  {
   "cell_type": "markdown",
   "id": "9396aa51-6f6a-44c2-901b-4f3a1327c3dc",
   "metadata": {},
   "source": [
    "## Demo 3: simulated noisy VQE for deuteron"
   ]
  },
  {
   "cell_type": "code",
   "execution_count": null,
   "id": "9cfb6974-922e-4297-9766-513c326bf103",
   "metadata": {},
   "outputs": [],
   "source": [
    "coeffs = [28.657, 0.218, -6.125, -9.625, -13.125, -2.143, -3.913, -5.671, -2.143, -3.913, -5.671]\n",
    "\n",
    "ops = [\n",
    "    qml.Identity(0), \n",
    "    qml.PauliZ(0),\n",
    "    qml.PauliZ(1),\n",
    "    qml.PauliZ(2),\n",
    "    qml.PauliZ(3),\n",
    "    qml.PauliX(0) @ qml.PauliX(1),\n",
    "    qml.PauliX(1) @ qml.PauliX(2),\n",
    "    qml.PauliX(2) @ qml.PauliX(3),\n",
    "    qml.PauliY(0) @ qml.PauliY(1),\n",
    "    qml.PauliY(1) @ qml.PauliY(2),\n",
    "    qml.PauliY(2) @ qml.PauliY(3)\n",
    "]\n",
    "\n",
    "H = qml.Hamiltonian(coeffs, ops, grouping_type=\"qwc\")"
   ]
  },
  {
   "cell_type": "code",
   "execution_count": null,
   "id": "ed0a38a5-30e7-4aea-ab61-717b7de5ca24",
   "metadata": {},
   "outputs": [],
   "source": [
    "def ansatz(params):\n",
    "    qml.PauliX(wires=0)\n",
    "    for wire in range(3):\n",
    "        qml.CRY(params[wire], wires=[wire, wire+1])\n",
    "        qml.CNOT(wires=[wire+1, wire])\n",
    "    return qml.expval(H)\n",
    "\n",
    "def noise_model(p_dep, p_ampdamp, wires):\n",
    "    qml.DepolarizingChannel(p_dep, wires=wires)\n",
    "    qml.AmplitudeDamping(p_ampdamp, wires=wires)"
   ]
  },
  {
   "cell_type": "code",
   "execution_count": null,
   "id": "c9e47008-f079-4346-b93c-e8cc0933a0ce",
   "metadata": {},
   "outputs": [],
   "source": [
    "dev = qml.device(\"default.mixed\", wires=4, shots=10000)\n",
    "dev_noisy = qml.transforms.insert(dev, noise_model, [0.005, 0.001])"
   ]
  },
  {
   "cell_type": "code",
   "execution_count": null,
   "id": "f9bf8ed9-4480-4c5f-b4e8-ef4e4db86a6e",
   "metadata": {},
   "outputs": [],
   "source": [
    "normal_qnode = qml.QNode(ansatz, dev, diff_method=\"parameter-shift\")\n",
    "noisy_qnode = qml.QNode(ansatz, dev_noisy, diff_method=\"parameter-shift\")"
   ]
  },
  {
   "cell_type": "code",
   "execution_count": null,
   "id": "48099eb6-0bef-4619-a76e-49bee67d789f",
   "metadata": {},
   "outputs": [],
   "source": [
    "normal_opt = qml.GradientDescentOptimizer(stepsize=0.05)\n",
    "noisy_opt = qml.GradientDescentOptimizer(stepsize=0.05)\n",
    "\n",
    "normal_params = np.zeros(3, requires_grad=True)\n",
    "noisy_params = np.zeros(3, requires_grad=True)\n",
    "\n",
    "normal_energies = []\n",
    "noisy_energies = []\n",
    "\n",
    "for idx in range(100):\n",
    "    normal_params, normal_cost = normal_opt.step_and_cost(normal_qnode, normal_params)\n",
    "    normal_energies.append(normal_cost)\n",
    "    \n",
    "    noisy_params, noisy_cost = noisy_opt.step_and_cost(noisy_qnode, noisy_params)\n",
    "    noisy_energies.append(noisy_cost)\n",
    "    \n",
    "    if idx % 10 == 0:\n",
    "        print(idx)"
   ]
  },
  {
   "cell_type": "code",
   "execution_count": null,
   "id": "d70e566a-01da-4fe7-9858-e130d83a46f8",
   "metadata": {},
   "outputs": [],
   "source": [
    "plt.figure(figsize=(10, 7))\n",
    "plt.scatter(range(100), normal_energies, label=\"Shot noise\")\n",
    "plt.scatter(range(100), noisy_energies, label=\"Hardware noise\")\n",
    "plt.axhline(y=-2.143, linestyle=\"--\", label=\"True value\", color=\"black\")\n",
    "plt.ylabel(\"Iteration\", fontsize=16)\n",
    "plt.yticks(fontsize=12)\n",
    "plt.xlabel(\"Energy\", fontsize=16)\n",
    "plt.xticks(fontsize=12)\n",
    "plt.legend(fontsize=16)"
   ]
  },
  {
   "cell_type": "code",
   "execution_count": null,
   "id": "eb09d1e9-0c2c-4418-a2ca-df8b5ad68c9b",
   "metadata": {},
   "outputs": [],
   "source": []
  }
 ],
 "metadata": {
  "kernelspec": {
   "display_name": "Python 3 (ipykernel)",
   "language": "python",
   "name": "python3"
  },
  "language_info": {
   "codemirror_mode": {
    "name": "ipython",
    "version": 3
   },
   "file_extension": ".py",
   "mimetype": "text/x-python",
   "name": "python",
   "nbconvert_exporter": "python",
   "pygments_lexer": "ipython3",
   "version": "3.10.13"
  }
 },
 "nbformat": 4,
 "nbformat_minor": 5
}
